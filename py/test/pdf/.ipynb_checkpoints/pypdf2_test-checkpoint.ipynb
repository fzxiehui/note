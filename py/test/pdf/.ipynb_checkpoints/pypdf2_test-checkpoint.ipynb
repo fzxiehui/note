{
 "cells": [
  {
   "cell_type": "markdown",
   "metadata": {},
   "source": [
    "# 引入 PyPDF2"
   ]
  },
  {
   "cell_type": "code",
   "execution_count": 9,
   "metadata": {},
   "outputs": [],
   "source": [
    "from PyPDF2 import PdfFileReader,PdfFileWriter"
   ]
  },
  {
   "cell_type": "markdown",
   "metadata": {},
   "source": [
    "# 打开文件"
   ]
  },
  {
   "cell_type": "code",
   "execution_count": 3,
   "metadata": {},
   "outputs": [],
   "source": [
    "pdf = PdfFileReader(open('./TCS34725.pdf', 'rb'))"
   ]
  },
  {
   "cell_type": "code",
   "execution_count": 4,
   "metadata": {},
   "outputs": [
    {
     "data": {
      "text/plain": [
       "<PyPDF2.pdf.PdfFileReader at 0x7f1ebc7f85b0>"
      ]
     },
     "execution_count": 4,
     "metadata": {},
     "output_type": "execute_result"
    }
   ],
   "source": [
    "pdf"
   ]
  },
  {
   "cell_type": "markdown",
   "metadata": {},
   "source": [
    "# 查看pdf 页数"
   ]
  },
  {
   "cell_type": "code",
   "execution_count": 5,
   "metadata": {},
   "outputs": [],
   "source": [
    "page = pdf.getNumPages()"
   ]
  },
  {
   "cell_type": "code",
   "execution_count": 6,
   "metadata": {},
   "outputs": [
    {
     "data": {
      "text/plain": [
       "26"
      ]
     },
     "execution_count": 6,
     "metadata": {},
     "output_type": "execute_result"
    }
   ],
   "source": [
    "page"
   ]
  },
  {
   "cell_type": "markdown",
   "metadata": {},
   "source": [
    "# 获取一页内容"
   ]
  },
  {
   "cell_type": "code",
   "execution_count": 7,
   "metadata": {},
   "outputs": [],
   "source": [
    "page = pdf.getPage(1)"
   ]
  },
  {
   "cell_type": "code",
   "execution_count": 1,
   "metadata": {
    "scrolled": true
   },
   "outputs": [],
   "source": [
    "# page"
   ]
  },
  {
   "cell_type": "markdown",
   "metadata": {},
   "source": [
    "# 写pdb"
   ]
  },
  {
   "cell_type": "code",
   "execution_count": 10,
   "metadata": {},
   "outputs": [],
   "source": [
    "pdf_w = PdfFileWriter()"
   ]
  },
  {
   "cell_type": "code",
   "execution_count": 11,
   "metadata": {},
   "outputs": [],
   "source": [
    "pdf_w.addPage(page)"
   ]
  },
  {
   "cell_type": "code",
   "execution_count": 12,
   "metadata": {},
   "outputs": [],
   "source": [
    "pdf_w.write(open('./t.pdf', 'wb'))"
   ]
  },
  {
   "cell_type": "markdown",
   "metadata": {},
   "source": [
    "# 提取文字"
   ]
  },
  {
   "cell_type": "code",
   "execution_count": 13,
   "metadata": {},
   "outputs": [
    {
     "data": {
      "text/plain": [
       "'TCS3472COLOR LIGHT-TO-DIGITAL CONVERTER\\nwith IR FILTER\\nTAOS135 \\n2Copyright  2012, TAOS Inc.\\nThe \\nLUMENOLOGY Companywww.taosinc.com\\nFunctional Block Diagram\\nSDAVDDINTSCLWait Control\\nClear ADCUpper LimitLower LimitInterruptI2C InterfaceGNDRed ADCGreen ADCBlue ADCClear DataRed DataGreen DataBlue DataRGBC ControlBlueGreenRedClearIR-BlockingFilterDetailed Description\\nThe TCS3472 light-to-digital converter contains a 3 \\n× 4 photodiode array, four analog-to-digital converters\\n(ADC) that integrate the photodiode current, data registers, a state machine, and an I2C interface. The 3 ×4photodiode array is composed of red-filtered, green-filtered, blue-filtered, and clear (unfiltered) photodiodes.\\nIn addition, the photodiodes are coated with an IR-blocking filter. The four integrating ADCs simultaneously\\n\\nconvert the amplified photodiode currents to a 16-bit digital value. Upon completion of a conversion cycle, theresults are transferred to the data registers, which are double-buffered to ensure the integrity of the data. All\\n\\nof the internal timing, as well as the low-power wait state, is controlled by the state machine.Communication of t\\nhe TCS3472 data is accomplished over a fast, up to 400 kHz, two-wire I2C serial bus. Theindustry standard I\\n2C bus facilitates easy, direct connection to microcontrollers and embedded processors.\\nIn addition to the I\\n2C bus, the TCS3472 provides a separate interrupt signal output. When interrupts are\\nenabled, and \\nuser-defined thresholds are exceeded, the active-low interrupt is asserted and remains asserteduntil it is cleared by the controller. This interrupt feature simplifies and improves the efficiency of the system\\nsoftware by eliminating the need to poll the TCS3472. The user can define the upper and lower interrupt\\nthresholds \\nand apply an interrupt persistence filter. The interrupt persistence filter allows the user to define the\\nnumber of consecutive out-of-threshold event\\ns necessary before generating an interrupt. The interrupt output\\nis open-drain, so it can be wire-ORed with other devices.'"
      ]
     },
     "execution_count": 13,
     "metadata": {},
     "output_type": "execute_result"
    }
   ],
   "source": [
    "page.extractText()"
   ]
  },
  {
   "cell_type": "markdown",
   "metadata": {},
   "source": [
    "# 字符串处理"
   ]
  },
  {
   "cell_type": "code",
   "execution_count": 15,
   "metadata": {},
   "outputs": [],
   "source": [
    "test = page.extractText()"
   ]
  },
  {
   "cell_type": "code",
   "execution_count": 17,
   "metadata": {},
   "outputs": [],
   "source": [
    "test = test.splitlines()"
   ]
  },
  {
   "cell_type": "code",
   "execution_count": 18,
   "metadata": {},
   "outputs": [
    {
     "data": {
      "text/plain": [
       "['TCS3472COLOR LIGHT-TO-DIGITAL CONVERTER',\n",
       " 'with IR FILTER',\n",
       " 'TAOS135 ',\n",
       " '2Copyright  2012, TAOS Inc.',\n",
       " 'The ',\n",
       " 'LUMENOLOGY Companywww.taosinc.com',\n",
       " 'Functional Block Diagram',\n",
       " 'SDAVDDINTSCLWait Control',\n",
       " 'Clear ADCUpper LimitLower LimitInterruptI2C InterfaceGNDRed ADCGreen ADCBlue ADCClear DataRed DataGreen DataBlue DataRGBC ControlBlueGreenRedClearIR-BlockingFilterDetailed Description',\n",
       " 'The TCS3472 light-to-digital converter contains a 3 ',\n",
       " '× 4 photodiode array, four analog-to-digital converters',\n",
       " '(ADC) that integrate the photodiode current, data registers, a state machine, and an I2C interface. The 3 ×4photodiode array is composed of red-filtered, green-filtered, blue-filtered, and clear (unfiltered) photodiodes.',\n",
       " 'In addition, the photodiodes are coated with an IR-blocking filter. The four integrating ADCs simultaneously',\n",
       " '',\n",
       " 'convert the amplified photodiode currents to a 16-bit digital value. Upon completion of a conversion cycle, theresults are transferred to the data registers, which are double-buffered to ensure the integrity of the data. All',\n",
       " '',\n",
       " 'of the internal timing, as well as the low-power wait state, is controlled by the state machine.Communication of t',\n",
       " 'he TCS3472 data is accomplished over a fast, up to 400 kHz, two-wire I2C serial bus. Theindustry standard I',\n",
       " '2C bus facilitates easy, direct connection to microcontrollers and embedded processors.',\n",
       " 'In addition to the I',\n",
       " '2C bus, the TCS3472 provides a separate interrupt signal output. When interrupts are',\n",
       " 'enabled, and ',\n",
       " 'user-defined thresholds are exceeded, the active-low interrupt is asserted and remains asserteduntil it is cleared by the controller. This interrupt feature simplifies and improves the efficiency of the system',\n",
       " 'software by eliminating the need to poll the TCS3472. The user can define the upper and lower interrupt',\n",
       " 'thresholds ',\n",
       " 'and apply an interrupt persistence filter. The interrupt persistence filter allows the user to define the',\n",
       " 'number of consecutive out-of-threshold event',\n",
       " 's necessary before generating an interrupt. The interrupt output',\n",
       " 'is open-drain, so it can be wire-ORed with other devices.']"
      ]
     },
     "execution_count": 18,
     "metadata": {},
     "output_type": "execute_result"
    }
   ],
   "source": [
    "test"
   ]
  },
  {
   "cell_type": "markdown",
   "metadata": {},
   "source": [
    "# 有道翻译测试"
   ]
  },
  {
   "cell_type": "code",
   "execution_count": 20,
   "metadata": {},
   "outputs": [],
   "source": [
    "import json\n",
    "import requests"
   ]
  },
  {
   "cell_type": "code",
   "execution_count": 21,
   "metadata": {},
   "outputs": [],
   "source": [
    "url = 'http://fanyi.youdao.com/translate?smartresult=dict&smartresult=rule&smartresult=ugc&sessionFrom=null'"
   ]
  },
  {
   "cell_type": "code",
   "execution_count": 22,
   "metadata": {},
   "outputs": [],
   "source": [
    "key = {\n",
    "        'type': \"AUTO\",\n",
    "        'i': test[0],\n",
    "        \"doctype\": \"json\",\n",
    "        \"version\": \"2.1\",\n",
    "        \"keyfrom\": \"fanyi.web\",\n",
    "        \"ue\": \"UTF-8\",\n",
    "        \"action\": \"FY_BY_CLICKBUTTON\",\n",
    "        \"typoResult\": \"true\"\n",
    "    }"
   ]
  },
  {
   "cell_type": "code",
   "execution_count": 23,
   "metadata": {},
   "outputs": [],
   "source": [
    "response = requests.post(url, data=key)"
   ]
  },
  {
   "cell_type": "code",
   "execution_count": 24,
   "metadata": {},
   "outputs": [
    {
     "data": {
      "text/plain": [
       "<Response [200]>"
      ]
     },
     "execution_count": 24,
     "metadata": {},
     "output_type": "execute_result"
    }
   ],
   "source": [
    "response"
   ]
  },
  {
   "cell_type": "code",
   "execution_count": 34,
   "metadata": {},
   "outputs": [],
   "source": [
    "text_json = json.loads(response.text)"
   ]
  },
  {
   "cell_type": "code",
   "execution_count": 35,
   "metadata": {},
   "outputs": [
    {
     "data": {
      "text/plain": [
       "{'type': 'EN2ZH_CN',\n",
       " 'errorCode': 0,\n",
       " 'elapsedTime': 44,\n",
       " 'translateResult': [[{'src': 'TCS3472COLOR LIGHT-TO-DIGITAL CONVERTER',\n",
       "    'tgt': 'TCS3472COLOR LIGHT-TO-DIGITAL转换器'}]]}"
      ]
     },
     "execution_count": 35,
     "metadata": {},
     "output_type": "execute_result"
    }
   ],
   "source": [
    "text_json"
   ]
  },
  {
   "cell_type": "code",
   "execution_count": 39,
   "metadata": {},
   "outputs": [],
   "source": [
    "text = text_json['translateResult'][0][0]['tgt']"
   ]
  },
  {
   "cell_type": "code",
   "execution_count": 42,
   "metadata": {},
   "outputs": [
    {
     "data": {
      "text/plain": [
       "'TCS3472COLOR LIGHT-TO-DIGITAL转换器'"
      ]
     },
     "execution_count": 42,
     "metadata": {},
     "output_type": "execute_result"
    }
   ],
   "source": [
    "text"
   ]
  },
  {
   "cell_type": "code",
   "execution_count": 43,
   "metadata": {},
   "outputs": [],
   "source": [
    "test[0] = text"
   ]
  },
  {
   "cell_type": "code",
   "execution_count": 44,
   "metadata": {},
   "outputs": [
    {
     "data": {
      "text/plain": [
       "['TCS3472COLOR LIGHT-TO-DIGITAL转换器',\n",
       " 'with IR FILTER',\n",
       " 'TAOS135 ',\n",
       " '2Copyright  2012, TAOS Inc.',\n",
       " 'The ',\n",
       " 'LUMENOLOGY Companywww.taosinc.com',\n",
       " 'Functional Block Diagram',\n",
       " 'SDAVDDINTSCLWait Control',\n",
       " 'Clear ADCUpper LimitLower LimitInterruptI2C InterfaceGNDRed ADCGreen ADCBlue ADCClear DataRed DataGreen DataBlue DataRGBC ControlBlueGreenRedClearIR-BlockingFilterDetailed Description',\n",
       " 'The TCS3472 light-to-digital converter contains a 3 ',\n",
       " '× 4 photodiode array, four analog-to-digital converters',\n",
       " '(ADC) that integrate the photodiode current, data registers, a state machine, and an I2C interface. The 3 ×4photodiode array is composed of red-filtered, green-filtered, blue-filtered, and clear (unfiltered) photodiodes.',\n",
       " 'In addition, the photodiodes are coated with an IR-blocking filter. The four integrating ADCs simultaneously',\n",
       " '',\n",
       " 'convert the amplified photodiode currents to a 16-bit digital value. Upon completion of a conversion cycle, theresults are transferred to the data registers, which are double-buffered to ensure the integrity of the data. All',\n",
       " '',\n",
       " 'of the internal timing, as well as the low-power wait state, is controlled by the state machine.Communication of t',\n",
       " 'he TCS3472 data is accomplished over a fast, up to 400 kHz, two-wire I2C serial bus. Theindustry standard I',\n",
       " '2C bus facilitates easy, direct connection to microcontrollers and embedded processors.',\n",
       " 'In addition to the I',\n",
       " '2C bus, the TCS3472 provides a separate interrupt signal output. When interrupts are',\n",
       " 'enabled, and ',\n",
       " 'user-defined thresholds are exceeded, the active-low interrupt is asserted and remains asserteduntil it is cleared by the controller. This interrupt feature simplifies and improves the efficiency of the system',\n",
       " 'software by eliminating the need to poll the TCS3472. The user can define the upper and lower interrupt',\n",
       " 'thresholds ',\n",
       " 'and apply an interrupt persistence filter. The interrupt persistence filter allows the user to define the',\n",
       " 'number of consecutive out-of-threshold event',\n",
       " 's necessary before generating an interrupt. The interrupt output',\n",
       " 'is open-drain, so it can be wire-ORed with other devices.']"
      ]
     },
     "execution_count": 44,
     "metadata": {},
     "output_type": "execute_result"
    }
   ],
   "source": [
    "test"
   ]
  },
  {
   "cell_type": "code",
   "execution_count": 45,
   "metadata": {},
   "outputs": [],
   "source": [
    "bin_text = '\\n'.join(test)"
   ]
  },
  {
   "cell_type": "code",
   "execution_count": 46,
   "metadata": {},
   "outputs": [
    {
     "data": {
      "text/plain": [
       "'TCS3472COLOR LIGHT-TO-DIGITAL转换器\\nwith IR FILTER\\nTAOS135 \\n2Copyright  2012, TAOS Inc.\\nThe \\nLUMENOLOGY Companywww.taosinc.com\\nFunctional Block Diagram\\nSDAVDDINTSCLWait Control\\nClear ADCUpper LimitLower LimitInterruptI2C InterfaceGNDRed ADCGreen ADCBlue ADCClear DataRed DataGreen DataBlue DataRGBC ControlBlueGreenRedClearIR-BlockingFilterDetailed Description\\nThe TCS3472 light-to-digital converter contains a 3 \\n× 4 photodiode array, four analog-to-digital converters\\n(ADC) that integrate the photodiode current, data registers, a state machine, and an I2C interface. The 3 ×4photodiode array is composed of red-filtered, green-filtered, blue-filtered, and clear (unfiltered) photodiodes.\\nIn addition, the photodiodes are coated with an IR-blocking filter. The four integrating ADCs simultaneously\\n\\nconvert the amplified photodiode currents to a 16-bit digital value. Upon completion of a conversion cycle, theresults are transferred to the data registers, which are double-buffered to ensure the integrity of the data. All\\n\\nof the internal timing, as well as the low-power wait state, is controlled by the state machine.Communication of t\\nhe TCS3472 data is accomplished over a fast, up to 400 kHz, two-wire I2C serial bus. Theindustry standard I\\n2C bus facilitates easy, direct connection to microcontrollers and embedded processors.\\nIn addition to the I\\n2C bus, the TCS3472 provides a separate interrupt signal output. When interrupts are\\nenabled, and \\nuser-defined thresholds are exceeded, the active-low interrupt is asserted and remains asserteduntil it is cleared by the controller. This interrupt feature simplifies and improves the efficiency of the system\\nsoftware by eliminating the need to poll the TCS3472. The user can define the upper and lower interrupt\\nthresholds \\nand apply an interrupt persistence filter. The interrupt persistence filter allows the user to define the\\nnumber of consecutive out-of-threshold event\\ns necessary before generating an interrupt. The interrupt output\\nis open-drain, so it can be wire-ORed with other devices.'"
      ]
     },
     "execution_count": 46,
     "metadata": {},
     "output_type": "execute_result"
    }
   ],
   "source": [
    "bin_text"
   ]
  },
  {
   "cell_type": "code",
   "execution_count": 2,
   "metadata": {},
   "outputs": [],
   "source": [
    "# page.extractText()"
   ]
  },
  {
   "cell_type": "code",
   "execution_count": null,
   "metadata": {},
   "outputs": [],
   "source": []
  },
  {
   "cell_type": "code",
   "execution_count": null,
   "metadata": {},
   "outputs": [],
   "source": []
  },
  {
   "cell_type": "code",
   "execution_count": null,
   "metadata": {},
   "outputs": [],
   "source": []
  }
 ],
 "metadata": {
  "kernelspec": {
   "display_name": "Python 3",
   "language": "python",
   "name": "python3"
  },
  "language_info": {
   "codemirror_mode": {
    "name": "ipython",
    "version": 3
   },
   "file_extension": ".py",
   "mimetype": "text/x-python",
   "name": "python",
   "nbconvert_exporter": "python",
   "pygments_lexer": "ipython3",
   "version": "3.8.5"
  }
 },
 "nbformat": 4,
 "nbformat_minor": 4
}
