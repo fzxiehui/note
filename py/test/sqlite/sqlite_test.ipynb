{
 "cells": [
  {
   "cell_type": "code",
   "execution_count": 1,
   "metadata": {},
   "outputs": [],
   "source": [
    "import sqlite3"
   ]
  },
  {
   "cell_type": "code",
   "execution_count": 2,
   "metadata": {},
   "outputs": [],
   "source": [
    "db = sqlite3.connect('./sqltest.sqlite')"
   ]
  },
  {
   "cell_type": "raw",
   "metadata": {},
   "source": [
    "db"
   ]
  },
  {
   "cell_type": "code",
   "execution_count": 5,
   "metadata": {},
   "outputs": [],
   "source": [
    "cursor = db.cursor()"
   ]
  },
  {
   "cell_type": "code",
   "execution_count": 6,
   "metadata": {},
   "outputs": [
    {
     "data": {
      "text/plain": [
       "<sqlite3.Cursor at 0x7f4b3b97df10>"
      ]
     },
     "execution_count": 6,
     "metadata": {},
     "output_type": "execute_result"
    }
   ],
   "source": [
    "cursor"
   ]
  },
  {
   "cell_type": "code",
   "execution_count": 8,
   "metadata": {},
   "outputs": [],
   "source": [
    "import os"
   ]
  },
  {
   "cell_type": "code",
   "execution_count": 10,
   "metadata": {},
   "outputs": [
    {
     "name": "stdout",
     "output_type": "stream",
     "text": [
      "True\n"
     ]
    }
   ],
   "source": [
    "# 文件是否存在\n",
    "print(os.path.isfile('./sqltest.sqlite'))"
   ]
  },
  {
   "cell_type": "code",
   "execution_count": 5,
   "metadata": {},
   "outputs": [],
   "source": [
    "import os\n",
    "import sqlite3\n",
    "\n",
    "class db():\n",
    "    def __init__(self, db_path = './db',db_file = \"script.sqlite\", sql_file=\"./script.sql\"):\n",
    "        self._open(db_path,db_file, sql_file)\n",
    "        \n",
    "    def _open(self, db_path, db_file, sql_file):\n",
    "        # 查看目录是否存在\n",
    "        if not os.path.isdir(db_path):\n",
    "            os.makedirs(db_path)\n",
    "            \n",
    "        # 目录处理\n",
    "        # if db_path[-1] != '/':\n",
    "        #    db_path = db_path + '/'\n",
    "        # 拼接\n",
    "        db_file = os.path.join(db_path, db_file)\n",
    "        # 去除多余斜杆\n",
    "        db_file = os.path.normpath(db_file)\n",
    "        # 查看文件是否存在\n",
    "        if not os.path.isfile(db_file):\n",
    "            # 创建 数据库\n",
    "            self._db = sqlite3.connect(db_file)\n",
    "            ########### 让 sqlite 支持字典, 一定要写在 cursor 前面\n",
    "            self._db.row_factory = self._dict_factory\n",
    "            self._db_cursor = self._db.cursor()\n",
    "            \n",
    "            # 文件不在在需要要 sql 文件初始化\n",
    "            if not os.path.isfile(sql_file):\n",
    "                return False\n",
    "            with open(sql_file, 'r', True, 'UTF-8') as f:\n",
    "                sql = f.read()\n",
    "                self._db_cursor.executescript(sql)\n",
    "            # with open(sql_file, 'r') as f:\n",
    "            #    self._db_cursor.executescript(f.read().decode('utf8'))\n",
    "            self._db.commit()\n",
    "            return True\n",
    "        \n",
    "        # 已存在\n",
    "        self._db = sqlite3.connect(db_file)\n",
    "        ########### 让 sqlite 支持字典, 一定要写在 cursor 前面\n",
    "        self._db.row_factory = self._dict_factory\n",
    "        self._db_cursor = self._db.cursor()\n",
    "        \n",
    "        return True\n",
    "    def get_db(self):\n",
    "        return self._db_cursor\n",
    "    \n",
    "    def execute(self, sql, *parameters):\n",
    "        try:\n",
    "            return self._db_cursor.execute(sql, parameters)\n",
    "        except Exception as e:\n",
    "            print(e)\n",
    "            return False\n",
    "    \n",
    "    def commit(self):\n",
    "        return self._db.commit()\n",
    "    \n",
    "    # 让 sqlite 支持字典\n",
    "    def _dict_factory(self, cursor, row):  \n",
    "        d = {}  \n",
    "        for idx, col in enumerate(cursor.description):  \n",
    "            d[col[0]] = row[idx]  \n",
    "        return d\n",
    "    \n",
    "    # 关闭\n",
    "    def close(self):\n",
    "        self._db_cursor.close()\n",
    "        self._db.close()"
   ]
  },
  {
   "cell_type": "code",
   "execution_count": null,
   "metadata": {},
   "outputs": [],
   "source": []
  },
  {
   "cell_type": "code",
   "execution_count": 6,
   "metadata": {},
   "outputs": [],
   "source": [
    "_db = db()"
   ]
  },
  {
   "cell_type": "code",
   "execution_count": 8,
   "metadata": {},
   "outputs": [],
   "source": [
    "data = _db.execute('SELECT * FROM t_device WHERE type = ?', (1, ))"
   ]
  },
  {
   "cell_type": "code",
   "execution_count": 9,
   "metadata": {},
   "outputs": [
    {
     "data": {
      "text/plain": [
       "<sqlite3.Cursor at 0x7f9030d0c8f0>"
      ]
     },
     "execution_count": 9,
     "metadata": {},
     "output_type": "execute_result"
    }
   ],
   "source": [
    "data"
   ]
  },
  {
   "cell_type": "code",
   "execution_count": 10,
   "metadata": {},
   "outputs": [
    {
     "data": {
      "text/plain": [
       "{'id': 1,\n",
       " 'name': '测试1',\n",
       " 'mac': 'FC-34-97-68-57-62',\n",
       " 'type': 1,\n",
       " 'active': 1,\n",
       " 'heartTimeStamp': '1111111',\n",
       " 'heartRate': '30',\n",
       " 'debug': 0}"
      ]
     },
     "execution_count": 10,
     "metadata": {},
     "output_type": "execute_result"
    }
   ],
   "source": [
    "data.fetchone()"
   ]
  },
  {
   "cell_type": "code",
   "execution_count": null,
   "metadata": {},
   "outputs": [],
   "source": []
  },
  {
   "cell_type": "code",
   "execution_count": 83,
   "metadata": {},
   "outputs": [],
   "source": [
    "d = _db.get_db()"
   ]
  },
  {
   "cell_type": "code",
   "execution_count": 84,
   "metadata": {},
   "outputs": [
    {
     "data": {
      "text/plain": [
       "<sqlite3.Cursor at 0x7f4b3acb16c0>"
      ]
     },
     "execution_count": 84,
     "metadata": {},
     "output_type": "execute_result"
    }
   ],
   "source": [
    "d"
   ]
  },
  {
   "cell_type": "code",
   "execution_count": 85,
   "metadata": {},
   "outputs": [],
   "source": [
    "sql = 'SELECT * FROM t_device WHERE type = 1'"
   ]
  },
  {
   "cell_type": "code",
   "execution_count": 86,
   "metadata": {},
   "outputs": [],
   "source": [
    "data = d.execute(sql)"
   ]
  },
  {
   "cell_type": "code",
   "execution_count": 87,
   "metadata": {},
   "outputs": [
    {
     "data": {
      "text/plain": [
       "<sqlite3.Cursor at 0x7f4b3acb16c0>"
      ]
     },
     "execution_count": 87,
     "metadata": {},
     "output_type": "execute_result"
    }
   ],
   "source": [
    "data"
   ]
  },
  {
   "cell_type": "code",
   "execution_count": 88,
   "metadata": {},
   "outputs": [
    {
     "data": {
      "text/plain": [
       "{'id': 1,\n",
       " 'name': '测试1',\n",
       " 'mac': 'FC-34-97-68-57-62',\n",
       " 'type': 1,\n",
       " 'active': 1,\n",
       " 'heartTimeStamp': '1111111',\n",
       " 'heartRate': '30',\n",
       " 'debug': 0}"
      ]
     },
     "execution_count": 88,
     "metadata": {},
     "output_type": "execute_result"
    }
   ],
   "source": [
    "data.fetchone()"
   ]
  },
  {
   "cell_type": "code",
   "execution_count": 89,
   "metadata": {},
   "outputs": [
    {
     "data": {
      "text/plain": [
       "{'id': 2,\n",
       " 'name': '测试2',\n",
       " 'mac': 'FC-34-97-68-57-61',\n",
       " 'type': 1,\n",
       " 'active': 1,\n",
       " 'heartTimeStamp': '2222222',\n",
       " 'heartRate': '30',\n",
       " 'debug': 0}"
      ]
     },
     "execution_count": 89,
     "metadata": {},
     "output_type": "execute_result"
    }
   ],
   "source": [
    "data.fetchone()"
   ]
  },
  {
   "cell_type": "code",
   "execution_count": 90,
   "metadata": {},
   "outputs": [
    {
     "data": {
      "text/plain": [
       "'FC-34-97-68-57-60'"
      ]
     },
     "execution_count": 90,
     "metadata": {},
     "output_type": "execute_result"
    }
   ],
   "source": [
    "data.fetchone()['mac']"
   ]
  },
  {
   "cell_type": "code",
   "execution_count": 91,
   "metadata": {},
   "outputs": [],
   "source": [
    "data = d.execute(sql)"
   ]
  },
  {
   "cell_type": "code",
   "execution_count": 92,
   "metadata": {},
   "outputs": [
    {
     "name": "stdout",
     "output_type": "stream",
     "text": [
      "FC-34-97-68-57-62\n",
      "FC-34-97-68-57-61\n",
      "FC-34-97-68-57-60\n",
      "FC-34-97-68-57-59\n",
      "FC-34-97-68-57-58\n"
     ]
    }
   ],
   "source": [
    "for d in data:\n",
    "    print(d['mac'])"
   ]
  },
  {
   "cell_type": "code",
   "execution_count": null,
   "metadata": {},
   "outputs": [],
   "source": []
  },
  {
   "cell_type": "code",
   "execution_count": null,
   "metadata": {},
   "outputs": [],
   "source": []
  },
  {
   "cell_type": "code",
   "execution_count": null,
   "metadata": {},
   "outputs": [],
   "source": []
  },
  {
   "cell_type": "code",
   "execution_count": null,
   "metadata": {},
   "outputs": [],
   "source": []
  },
  {
   "cell_type": "code",
   "execution_count": 15,
   "metadata": {},
   "outputs": [
    {
     "data": {
      "text/plain": [
       "True"
      ]
     },
     "execution_count": 15,
     "metadata": {},
     "output_type": "execute_result"
    }
   ],
   "source": [
    "os.path.isdir(\"./db\")"
   ]
  },
  {
   "cell_type": "code",
   "execution_count": 14,
   "metadata": {},
   "outputs": [],
   "source": [
    "os.makedirs(\"./db\")"
   ]
  },
  {
   "cell_type": "code",
   "execution_count": null,
   "metadata": {},
   "outputs": [],
   "source": []
  }
 ],
 "metadata": {
  "kernelspec": {
   "display_name": "Python 3",
   "language": "python",
   "name": "python3"
  },
  "language_info": {
   "codemirror_mode": {
    "name": "ipython",
    "version": 3
   },
   "file_extension": ".py",
   "mimetype": "text/x-python",
   "name": "python",
   "nbconvert_exporter": "python",
   "pygments_lexer": "ipython3",
   "version": "3.8.5"
  }
 },
 "nbformat": 4,
 "nbformat_minor": 4
}
