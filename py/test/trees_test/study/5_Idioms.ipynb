{
 "cells": [
  {
   "cell_type": "code",
   "execution_count": 1,
   "metadata": {},
   "outputs": [],
   "source": [
    "import py_trees"
   ]
  },
  {
   "cell_type": "code",
   "execution_count": 5,
   "metadata": {},
   "outputs": [
    {
     "name": "stdout",
     "output_type": "stream",
     "text": [
      "<py_trees.composites.Sequence object at 0x7f62e9c75d90>\n"
     ]
    }
   ],
   "source": [
    "task_one = py_trees.behaviours.TickCounter(name=\"Subtree 1\", duration=2)\n",
    "task_two = py_trees.behaviours.TickCounter(name=\"Subtree 2\", duration=2)\n",
    "either_or = py_trees.idioms.either_or(\n",
    "    name=\"EitherOr\",\n",
    "    conditions=[\n",
    "        py_trees.common.ComparisonExpression(\"joystick_one\", \"enabled\", '.'),\n",
    "        py_trees.common.ComparisonExpression(\"joystick_two\", \"enabled\", '../'),\n",
    "    ],\n",
    "    subtrees=[task_one, task_two],\n",
    "    namespace=\"either_or\",\n",
    ")\n",
    "print(either_or)"
   ]
  },
  {
   "cell_type": "code",
   "execution_count": null,
   "metadata": {},
   "outputs": [],
   "source": []
  }
 ],
 "metadata": {
  "kernelspec": {
   "display_name": "Python 3",
   "language": "python",
   "name": "python3"
  },
  "language_info": {
   "codemirror_mode": {
    "name": "ipython",
    "version": 3
   },
   "file_extension": ".py",
   "mimetype": "text/x-python",
   "name": "python",
   "nbconvert_exporter": "python",
   "pygments_lexer": "ipython3",
   "version": "3.8.5"
  }
 },
 "nbformat": 4,
 "nbformat_minor": 4
}
