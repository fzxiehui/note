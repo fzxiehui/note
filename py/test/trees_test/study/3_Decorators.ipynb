{
 "cells": [
  {
   "cell_type": "markdown",
   "metadata": {},
   "source": [
    "# 装饰器 - Decorators"
   ]
  },
  {
   "cell_type": "markdown",
   "metadata": {},
   "source": [
    "## 说明"
   ]
  },
  {
   "cell_type": "markdown",
   "metadata": {},
   "source": [
    "装饰器是管理单个子项并对其潜在子项行为提供常见修改（例如反转结果）行为。也就是说，它们为行为提供了一种戴不同“帽子”的方法，这组合地扩展了行为库的功能。"
   ]
  },
  {
   "cell_type": "markdown",
   "metadata": {},
   "source": [
    "## 例子"
   ]
  },
  {
   "cell_type": "code",
   "execution_count": 6,
   "metadata": {},
   "outputs": [],
   "source": [
    "#!/usr/bin/env python3\n",
    "# -*- coding: utf-8 -*-\n",
    "\n",
    "import py_trees.decorators\n",
    "import py_trees.display\n",
    "\n",
    "if __name__ == '__main__':\n",
    "\n",
    "    root = py_trees.composites.Sequence(name=\"Life\")\n",
    "    timeout = py_trees.decorators.Timeout(\n",
    "        name=\"Timeout\",\n",
    "        child=py_trees.behaviours.Success(name=\"Have a Beer!\")\n",
    "    )\n",
    "    failure_is_success = py_trees.decorators.Inverter(\n",
    "        name=\"Inverter\",\n",
    "        child=py_trees.behaviours.Success(name=\"Busy?\")\n",
    "        )\n",
    "    root.add_children([failure_is_success, timeout])\n",
    "    # py_trees.display.render_dot_tree(root)"
   ]
  },
  {
   "cell_type": "code",
   "execution_count": null,
   "metadata": {},
   "outputs": [],
   "source": []
  },
  {
   "cell_type": "code",
   "execution_count": null,
   "metadata": {},
   "outputs": [],
   "source": []
  },
  {
   "cell_type": "code",
   "execution_count": null,
   "metadata": {},
   "outputs": [],
   "source": []
  },
  {
   "cell_type": "code",
   "execution_count": null,
   "metadata": {},
   "outputs": [],
   "source": []
  }
 ],
 "metadata": {
  "kernelspec": {
   "display_name": "Python 3",
   "language": "python",
   "name": "python3"
  },
  "language_info": {
   "codemirror_mode": {
    "name": "ipython",
    "version": 3
   },
   "file_extension": ".py",
   "mimetype": "text/x-python",
   "name": "python",
   "nbconvert_exporter": "python",
   "pygments_lexer": "ipython3",
   "version": "3.8.5"
  }
 },
 "nbformat": 4,
 "nbformat_minor": 4
}
