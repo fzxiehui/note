{
 "cells": [
  {
   "cell_type": "markdown",
   "metadata": {},
   "source": [
    "# 黑板 - Blackboards"
   ]
  },
  {
   "cell_type": "markdown",
   "metadata": {},
   "source": [
    "## 说明\n",
    "\n",
    "`Blackboards`不是行为树必要组件，但`Blackboards`是行为树之前共享数据常见机制。\n",
    "\n",
    "根据框架需要，实现有很大的差异。最简单的实现采用全局访问，以键值形式存储。更严格的实现有范围访问、连接数据端口。\n",
    "\n",
    "- 类\n",
    "```python\n",
    "class py_trees.blackboard.Client(*, name=None, namespace=None)\n",
    "```"
   ]
  },
  {
   "cell_type": "markdown",
   "metadata": {},
   "source": [
    "## 实例"
   ]
  },
  {
   "cell_type": "markdown",
   "metadata": {},
   "source": [
    "- 创建客户端"
   ]
  },
  {
   "cell_type": "code",
   "execution_count": 6,
   "metadata": {},
   "outputs": [],
   "source": [
    "import py_trees\n",
    "provided = py_trees.blackboard.Client(name=\"Provided\")\n",
    "# print(provided)\n",
    "generated = py_trees.blackboard.Client()\n",
    "# print(generated)"
   ]
  },
  {
   "cell_type": "markdown",
   "metadata": {},
   "source": [
    "- 为黑板上的键注册读/写访问权"
   ]
  },
  {
   "cell_type": "code",
   "execution_count": 5,
   "metadata": {},
   "outputs": [
    {
     "name": "stdout",
     "output_type": "stream",
     "text": [
      "Blackboard Client\n",
      "  Client Data\n",
      "    name              : Client\n",
      "    namespace         : /\n",
      "    unique_identifier : b2629528-dc3a-4b75-89f7-0f324ec74e62\n",
      "    read              : {'/bar'}\n",
      "    write             : {'/foo'}\n",
      "    exclusive         : set()\n",
      "  Variables\n",
      "    /foo : hello\n",
      "    /bar : -\n",
      "\n"
     ]
    }
   ],
   "source": [
    "blackboard = py_trees.blackboard.Client(name=\"Client\")\n",
    "blackboard.register_key(key=\"foo\", access=py_trees.common.Access.WRITE)\n",
    "blackboard.register_key(key=\"bar\", access=py_trees.common.Access.READ)\n",
    "blackboard.foo = \"hello\"\n",
    "print(blackboard)"
   ]
  },
  {
   "cell_type": "code",
   "execution_count": null,
   "metadata": {},
   "outputs": [],
   "source": []
  },
  {
   "cell_type": "code",
   "execution_count": null,
   "metadata": {},
   "outputs": [],
   "source": []
  },
  {
   "cell_type": "code",
   "execution_count": null,
   "metadata": {},
   "outputs": [],
   "source": []
  },
  {
   "cell_type": "code",
   "execution_count": null,
   "metadata": {},
   "outputs": [],
   "source": []
  }
 ],
 "metadata": {
  "kernelspec": {
   "display_name": "Python 3",
   "language": "python",
   "name": "python3"
  },
  "language_info": {
   "codemirror_mode": {
    "name": "ipython",
    "version": 3
   },
   "file_extension": ".py",
   "mimetype": "text/x-python",
   "name": "python",
   "nbconvert_exporter": "python",
   "pygments_lexer": "ipython3",
   "version": "3.8.5"
  }
 },
 "nbformat": 4,
 "nbformat_minor": 4
}
