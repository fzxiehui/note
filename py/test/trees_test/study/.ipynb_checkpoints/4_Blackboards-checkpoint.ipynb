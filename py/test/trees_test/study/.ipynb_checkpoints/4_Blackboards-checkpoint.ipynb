{
 "cells": [
  {
   "cell_type": "markdown",
   "metadata": {},
   "source": [
    "# 黑板 - Blackboards"
   ]
  },
  {
   "cell_type": "markdown",
   "metadata": {},
   "source": [
    "## 说明\n",
    "\n",
    "`Blackboards`不是行为树必要组件，但`Blackboards`是行为树之前共享数据常见机制。\n",
    "\n",
    "根据框架需要，实现有很大的差异。最简单的实现采用全局访问，以键值形式存储。更严格的实现有范围访问、连接数据端口。\n",
    "\n",
    "- 类\n",
    "```python\n",
    "class py_trees.blackboard.Client(*, name=None, namespace=None)\n",
    "```"
   ]
  },
  {
   "cell_type": "markdown",
   "metadata": {},
   "source": [
    "## 示例"
   ]
  },
  {
   "cell_type": "markdown",
   "metadata": {},
   "source": [
    "- 创建客户端"
   ]
  },
  {
   "cell_type": "code",
   "execution_count": 6,
   "metadata": {},
   "outputs": [],
   "source": [
    "import py_trees\n",
    "provided = py_trees.blackboard.Client(name=\"Provided\")\n",
    "# print(provided)\n",
    "generated = py_trees.blackboard.Client()\n",
    "# print(generated)"
   ]
  },
  {
   "cell_type": "markdown",
   "metadata": {},
   "source": [
    "- 为黑板上的键注册读/写访问权"
   ]
  },
  {
   "cell_type": "code",
   "execution_count": 3,
   "metadata": {},
   "outputs": [
    {
     "name": "stdout",
     "output_type": "stream",
     "text": [
      "Blackboard Client\n",
      "  Client Data\n",
      "    name              : Client\n",
      "    namespace         : /\n",
      "    unique_identifier : 28b755e0-003e-4de0-9579-842ce4669ab6\n",
      "    read              : {'/bar'}\n",
      "    write             : {'/foo'}\n",
      "    exclusive         : set()\n",
      "  Variables\n",
      "    /foo : hello\n",
      "    /bar : -\n",
      "\n"
     ]
    }
   ],
   "source": [
    "blackboard = py_trees.blackboard.Client(name=\"Client\")\n",
    "blackboard.register_key(key=\"foo\", access=py_trees.common.Access.WRITE)\n",
    "blackboard.register_key(key=\"bar\", access=py_trees.common.Access.READ)\n",
    "blackboard.foo = \"hello\"\n",
    "print(blackboard)"
   ]
  },
  {
   "cell_type": "markdown",
   "metadata": {},
   "source": [
    "- 连接规则"
   ]
  },
  {
   "cell_type": "code",
   "execution_count": 1,
   "metadata": {},
   "outputs": [
    {
     "name": "stdout",
     "output_type": "stream",
     "text": [
      "Foo: bar\n"
     ]
    }
   ],
   "source": [
    "import py_trees\n",
    "\n",
    "def check_foo():\n",
    "    blackboard = py_trees.blackboard.Client(name=\"Reader\")\n",
    "    blackboard.register_key(key=\"foo\", access=py_trees.common.Access.READ)\n",
    "    print(\"Foo: {}\".format(blackboard.foo))\n",
    "\n",
    "\n",
    "blackboard = py_trees.blackboard.Client(name=\"Writer\")\n",
    "blackboard.register_key(key=\"foo\", access=py_trees.common.Access.WRITE)\n",
    "blackboard.foo = \"bar\"\n",
    "check_foo()"
   ]
  },
  {
   "cell_type": "markdown",
   "metadata": {},
   "source": [
    "- 复杂对象"
   ]
  },
  {
   "cell_type": "code",
   "execution_count": 7,
   "metadata": {},
   "outputs": [
    {
     "name": "stdout",
     "output_type": "stream",
     "text": [
      "Blackboard Client\n",
      "  Client Data\n",
      "    name              : Writer\n",
      "    namespace         : /\n",
      "    unique_identifier : 082c7218-e0bf-4d70-9bd7-1c3a52ac8eb1\n",
      "    read              : set()\n",
      "    write             : {'/nested'}\n",
      "    exclusive         : set()\n",
      "  Variables\n",
      "    /nested : {'foo': 'I am foo', 'bar': 'I am bar'}\n",
      "\n",
      "Blackboard Client\n",
      "  Client Data\n",
      "    name              : Reader\n",
      "    namespace         : /\n",
      "    unique_identifier : b3ee9a99-0bb2-442d-ab3c-23baa940f43f\n",
      "    read              : {'/nested'}\n",
      "    write             : set()\n",
      "    exclusive         : set()\n",
      "  Variables\n",
      "    /nested : {'foo': 'I am foo', 'bar': 'I am bar'}\n",
      "\n"
     ]
    }
   ],
   "source": [
    "class Nested(object):\n",
    "    def __init__(self):\n",
    "        self.foo = None\n",
    "        self.bar = None\n",
    "\n",
    "    def __str__(self):\n",
    "        return str(self.__dict__)\n",
    "\n",
    "\n",
    "writer = py_trees.blackboard.Client(name=\"Writer\")\n",
    "writer.register_key(key=\"nested\", access=py_trees.common.Access.WRITE)\n",
    "reader = py_trees.blackboard.Client(name=\"Reader\")\n",
    "reader.register_key(key=\"nested\", access=py_trees.common.Access.READ)\n",
    "\n",
    "writer.nested = Nested()\n",
    "writer.nested.foo = \"I am foo\"\n",
    "writer.nested.bar = \"I am bar\"\n",
    "\n",
    "foo = reader.nested.foo\n",
    "print(writer)\n",
    "print(reader)"
   ]
  },
  {
   "cell_type": "markdown",
   "metadata": {},
   "source": [
    "- 记录显示活动流"
   ]
  },
  {
   "cell_type": "code",
   "execution_count": 32,
   "metadata": {},
   "outputs": [],
   "source": [
    "# 开启记录流\n",
    "py_trees.blackboard.Blackboard.enable_activity_stream(maximum_size=100)\n",
    "reader = py_trees.blackboard.Client(name=\"Reader\")\n",
    "reader.register_key(key=\"foo\", access=py_trees.common.Access.READ)\n",
    "writer = py_trees.blackboard.Client(name=\"Writer\")\n",
    "writer.register_key(key=\"foo\", access=py_trees.common.Access.WRITE)"
   ]
  },
  {
   "cell_type": "code",
   "execution_count": 25,
   "metadata": {},
   "outputs": [],
   "source": [
    "writer.foo = \"bar\""
   ]
  },
  {
   "cell_type": "code",
   "execution_count": 29,
   "metadata": {},
   "outputs": [],
   "source": [
    "writer.foo = \"hello\""
   ]
  },
  {
   "cell_type": "code",
   "execution_count": 30,
   "metadata": {},
   "outputs": [],
   "source": [
    "unused_result = reader.foo"
   ]
  },
  {
   "cell_type": "code",
   "execution_count": 33,
   "metadata": {},
   "outputs": [
    {
     "name": "stdout",
     "output_type": "stream",
     "text": [
      "Blackboard Activity Stream\n",
      "    /foo : WRITE         | Writer | → bar\n",
      "    /foo : WRITE         | Writer | → hello\n",
      "    /foo : WRITE         | Writer | → hello\n",
      "    /foo : WRITE         | Writer | → hello\n",
      "    /foo : READ          | Reader | ← hello\n"
     ]
    }
   ],
   "source": [
    "# 显示流\n",
    "print(py_trees.display.unicode_blackboard_activity_stream())"
   ]
  },
  {
   "cell_type": "code",
   "execution_count": 34,
   "metadata": {},
   "outputs": [],
   "source": [
    "# 清除记录\n",
    "py_trees.blackboard.Blackboard.activity_stream.clear()"
   ]
  },
  {
   "cell_type": "markdown",
   "metadata": {},
   "source": [
    "- 只显示其中一部分"
   ]
  },
  {
   "cell_type": "code",
   "execution_count": 36,
   "metadata": {},
   "outputs": [
    {
     "name": "stdout",
     "output_type": "stream",
     "text": [
      "Blackboard Data\n",
      "    /bar    : bar\n",
      "    /dude   : bob\n",
      "    /dudette: -\n",
      "    /foo    : foo\n",
      "    /key    : -\n",
      "    /nested : {'foo': 'I am foo', 'bar': 'I am bar'}\n",
      "\n",
      "Blackboard Data\n",
      "  Filter: '{'foo'}'\n",
      "\n",
      "Blackboard Data\n",
      "  Filter: 'dud*'\n",
      "    /dude   : bob\n",
      "    /dudette: -\n",
      "\n",
      "Blackboard Data\n",
      "  Filter: {UUID('f1c4ea86-f9f2-4bc1-ae8d-9e46a1730492')}\n",
      "    /key: -\n",
      "\n"
     ]
    }
   ],
   "source": [
    "writer = py_trees.blackboard.Client(name=\"Writer\")\n",
    "for key in {\"foo\", \"bar\", \"dude\", \"dudette\"}:\n",
    "    writer.register_key(key=key, access=py_trees.common.Access.WRITE)\n",
    "\n",
    "reader = py_trees.blackboard.Client(name=\"Reader\")\n",
    "for key in {\"foo\", \"bar\"}:\n",
    "    reader.register_key(key=\"key\", access=py_trees.common.Access.READ)\n",
    "\n",
    "writer.foo = \"foo\"\n",
    "writer.bar = \"bar\"\n",
    "writer.dude = \"bob\"\n",
    "\n",
    "# all key-value pairs\n",
    "print(py_trees.display.unicode_blackboard())\n",
    "# various filtered views\n",
    "print(py_trees.display.unicode_blackboard(key_filter={\"foo\"}))\n",
    "print(py_trees.display.unicode_blackboard(regex_filter=\"dud*\"))\n",
    "print(py_trees.display.unicode_blackboard(client_filter={reader.unique_identifier}))\n",
    "# list the clients associated with each key\n",
    "# print(py_trees.display.unicode_blackboard(display_only_key_metadata=True))"
   ]
  },
  {
   "cell_type": "markdown",
   "metadata": {},
   "source": [
    "- 命名空间"
   ]
  },
  {
   "cell_type": "code",
   "execution_count": 70,
   "metadata": {},
   "outputs": [
    {
     "name": "stdout",
     "output_type": "stream",
     "text": [
      "Blackboard Client\n",
      "  Client Data\n",
      "    name              : Global\n",
      "    namespace         : /\n",
      "    unique_identifier : 6465755d-b56a-4f8e-b816-298d128ea3e6\n",
      "    read              : set()\n",
      "    write             : {'/foo', '/parameters/default_speed', '/bar'}\n",
      "    exclusive         : set()\n",
      "  Variables\n",
      "    /foo                      : foo\n",
      "    /bar                      : bar\n",
      "    /parameters/default_speed : 20.0\n",
      "\n",
      "Blackboard Client\n",
      "  Client Data\n",
      "    name              : Parameters\n",
      "    namespace         : /parameters\n",
      "    unique_identifier : 62b01d41-c388-4af2-96f3-189142d582e9\n",
      "    read              : set()\n",
      "    write             : {'/parameters/aggressive_speed'}\n",
      "    exclusive         : set()\n",
      "  Variables\n",
      "    /parameters/aggressive_speed : 60.0\n",
      "\n"
     ]
    }
   ],
   "source": [
    "blackboard = py_trees.blackboard.Client(name=\"Global\")\n",
    "parameters = py_trees.blackboard.Client(name=\"Parameters\", namespace=\"parameters\")\n",
    "\n",
    "blackboard.register_key(key=\"foo\", access=py_trees.common.Access.WRITE)\n",
    "blackboard.register_key(key=\"/bar\", access=py_trees.common.Access.WRITE)\n",
    "blackboard.register_key(key=\"/parameters/default_speed\", access=py_trees.common.Access.WRITE)\n",
    "parameters.register_key(key=\"aggressive_speed\", access=py_trees.common.Access.WRITE)\n",
    "\n",
    "blackboard.foo = \"foo\"\n",
    "blackboard.bar = \"bar\"\n",
    "blackboard.parameters.default_speed = 20.0\n",
    "parameters.aggressive_speed = 60.0\n",
    "\n",
    "miss_daisy = blackboard.parameters.default_speed\n",
    "van_diesel = parameters.aggressive_speed\n",
    "\n",
    "print(blackboard)\n",
    "print(parameters)"
   ]
  },
  {
   "cell_type": "markdown",
   "metadata": {},
   "source": [
    "## 官方挖的坑"
   ]
  },
  {
   "cell_type": "code",
   "execution_count": 50,
   "metadata": {},
   "outputs": [],
   "source": [
    "import py_trees\n",
    "class Foo(py_trees.behaviour.Behaviour):\n",
    "\n",
    "    def __init__(self, name):\n",
    "        super().__init__(name=name)\n",
    "        self.blackboard = self.attach_blackboard_client(name=\"Foo Global\")\n",
    "        self.parameters = self.attach_blackboard_client(name=\"Foo Params\", namespace=\"foo_parameters\")\n",
    "        self.state = self.attach_blackboard_client(name=\"Foo State\", namespace=\"foo_state\")\n",
    "        self.feedback_message = 0\n",
    "        \n",
    "\n",
    "        # create a key 'foo_parameters_init' on the blackboard\n",
    "        self.parameters.register_key(\"init\", access=py_trees.common.Access.READ)\n",
    "        print(self.parameters.foo_parameters.init)\n",
    "        # self.parameters.foo_parameters_.init = 3\n",
    "        # create a key 'foo_state_number_of_noodles' on the blackboard\n",
    "        self.state.register_key(\"number_of_noodles\", access=py_trees.common.Access.WRITE)\n",
    "\n",
    "    def initialise(self):\n",
    "        print('initialise begin')\n",
    "        self.state.number_of_noodles = self.parameters.init\n",
    "        print('initialise end')\n",
    "        \n",
    "    def update(self):\n",
    "        self.state.number_of_noodles += 1\n",
    "        self.feedback_message = self.state.number_of_noodles\n",
    "        if self.state.number_of_noodles > 5:\n",
    "            return py_trees.common.Status.SUCCESS\n",
    "        else:\n",
    "            return py_trees.common.Status.RUNNING"
   ]
  },
  {
   "cell_type": "code",
   "execution_count": 51,
   "metadata": {},
   "outputs": [],
   "source": [
    "# could equivalently do directly via the Blackboard static methods if\n",
    "# not interested in tracking / visualising the application configuration\n",
    "configuration = py_trees.blackboard.Client(name=\"App Config\")\n"
   ]
  },
  {
   "cell_type": "code",
   "execution_count": 52,
   "metadata": {},
   "outputs": [],
   "source": [
    "configuration.register_key(\"foo_parameters_init\", access=py_trees.common.Access.WRITE)"
   ]
  },
  {
   "cell_type": "code",
   "execution_count": 53,
   "metadata": {},
   "outputs": [],
   "source": [
    "configuration.foo_parameters_init = 3"
   ]
  },
  {
   "cell_type": "code",
   "execution_count": 54,
   "metadata": {},
   "outputs": [
    {
     "ename": "AttributeError",
     "evalue": "client 'Foo Params' does not have read/write access to '/foo_parameters/foo_parameters'",
     "output_type": "error",
     "traceback": [
      "\u001b[0;31m---------------------------------------------------------------------------\u001b[0m",
      "\u001b[0;31mAttributeError\u001b[0m                            Traceback (most recent call last)",
      "\u001b[0;32m<ipython-input-54-626fed021da3>\u001b[0m in \u001b[0;36m<module>\u001b[0;34m\u001b[0m\n\u001b[0;32m----> 1\u001b[0;31m \u001b[0mfoo\u001b[0m \u001b[0;34m=\u001b[0m \u001b[0mFoo\u001b[0m\u001b[0;34m(\u001b[0m\u001b[0mname\u001b[0m\u001b[0;34m=\u001b[0m\u001b[0;34m\"The Foo\"\u001b[0m\u001b[0;34m)\u001b[0m\u001b[0;34m\u001b[0m\u001b[0;34m\u001b[0m\u001b[0m\n\u001b[0m",
      "\u001b[0;32m<ipython-input-50-58d21a0942f8>\u001b[0m in \u001b[0;36m__init__\u001b[0;34m(self, name)\u001b[0m\n\u001b[1;32m     12\u001b[0m         \u001b[0;31m# create a key 'foo_parameters_init' on the blackboard\u001b[0m\u001b[0;34m\u001b[0m\u001b[0;34m\u001b[0m\u001b[0;34m\u001b[0m\u001b[0m\n\u001b[1;32m     13\u001b[0m         \u001b[0mself\u001b[0m\u001b[0;34m.\u001b[0m\u001b[0mparameters\u001b[0m\u001b[0;34m.\u001b[0m\u001b[0mregister_key\u001b[0m\u001b[0;34m(\u001b[0m\u001b[0;34m\"init\"\u001b[0m\u001b[0;34m,\u001b[0m \u001b[0maccess\u001b[0m\u001b[0;34m=\u001b[0m\u001b[0mpy_trees\u001b[0m\u001b[0;34m.\u001b[0m\u001b[0mcommon\u001b[0m\u001b[0;34m.\u001b[0m\u001b[0mAccess\u001b[0m\u001b[0;34m.\u001b[0m\u001b[0mREAD\u001b[0m\u001b[0;34m)\u001b[0m\u001b[0;34m\u001b[0m\u001b[0;34m\u001b[0m\u001b[0m\n\u001b[0;32m---> 14\u001b[0;31m         \u001b[0mprint\u001b[0m\u001b[0;34m(\u001b[0m\u001b[0mself\u001b[0m\u001b[0;34m.\u001b[0m\u001b[0mparameters\u001b[0m\u001b[0;34m.\u001b[0m\u001b[0mfoo_parameters\u001b[0m\u001b[0;34m.\u001b[0m\u001b[0minit\u001b[0m\u001b[0;34m)\u001b[0m\u001b[0;34m\u001b[0m\u001b[0;34m\u001b[0m\u001b[0m\n\u001b[0m\u001b[1;32m     15\u001b[0m         \u001b[0;31m# self.parameters.foo_parameters_.init = 3\u001b[0m\u001b[0;34m\u001b[0m\u001b[0;34m\u001b[0m\u001b[0;34m\u001b[0m\u001b[0m\n\u001b[1;32m     16\u001b[0m         \u001b[0;31m# create a key 'foo_state_number_of_noodles' on the blackboard\u001b[0m\u001b[0;34m\u001b[0m\u001b[0;34m\u001b[0m\u001b[0;34m\u001b[0m\u001b[0m\n",
      "\u001b[0;32m~/anaconda3/lib/python3.8/site-packages/py_trees/blackboard.py\u001b[0m in \u001b[0;36m__getattr__\u001b[0;34m(self, name)\u001b[0m\n\u001b[1;32m    894\u001b[0m                     \u001b[0mself\u001b[0m\u001b[0;34m.\u001b[0m\u001b[0m_generate_activity_item\u001b[0m\u001b[0;34m(\u001b[0m\u001b[0mname\u001b[0m\u001b[0;34m,\u001b[0m \u001b[0mActivityType\u001b[0m\u001b[0;34m.\u001b[0m\u001b[0mACCESS_DENIED\u001b[0m\u001b[0;34m)\u001b[0m\u001b[0;34m\u001b[0m\u001b[0;34m\u001b[0m\u001b[0m\n\u001b[1;32m    895\u001b[0m                 )\n\u001b[0;32m--> 896\u001b[0;31m             \u001b[0;32mraise\u001b[0m \u001b[0mAttributeError\u001b[0m\u001b[0;34m(\u001b[0m\u001b[0;34m\"client '{}' does not have read/write access to '{}'\"\u001b[0m\u001b[0;34m.\u001b[0m\u001b[0mformat\u001b[0m\u001b[0;34m(\u001b[0m\u001b[0mself\u001b[0m\u001b[0;34m.\u001b[0m\u001b[0mname\u001b[0m\u001b[0;34m,\u001b[0m \u001b[0mname\u001b[0m\u001b[0;34m)\u001b[0m\u001b[0;34m)\u001b[0m\u001b[0;34m\u001b[0m\u001b[0;34m\u001b[0m\u001b[0m\n\u001b[0m\u001b[1;32m    897\u001b[0m         \u001b[0mremapped_name\u001b[0m \u001b[0;34m=\u001b[0m \u001b[0msuper\u001b[0m\u001b[0;34m(\u001b[0m\u001b[0;34m)\u001b[0m\u001b[0;34m.\u001b[0m\u001b[0m__getattribute__\u001b[0m\u001b[0;34m(\u001b[0m\u001b[0;34m\"remappings\"\u001b[0m\u001b[0;34m)\u001b[0m\u001b[0;34m[\u001b[0m\u001b[0mname\u001b[0m\u001b[0;34m]\u001b[0m\u001b[0;34m\u001b[0m\u001b[0;34m\u001b[0m\u001b[0m\n\u001b[1;32m    898\u001b[0m         \u001b[0;32mtry\u001b[0m\u001b[0;34m:\u001b[0m\u001b[0;34m\u001b[0m\u001b[0;34m\u001b[0m\u001b[0m\n",
      "\u001b[0;31mAttributeError\u001b[0m: client 'Foo Params' does not have read/write access to '/foo_parameters/foo_parameters'"
     ]
    }
   ],
   "source": [
    "foo = Foo(name=\"The Foo\")"
   ]
  },
  {
   "cell_type": "code",
   "execution_count": 31,
   "metadata": {},
   "outputs": [
    {
     "name": "stdout",
     "output_type": "stream",
     "text": [
      "3\n"
     ]
    }
   ],
   "source": [
    "print(configuration.foo_parameters_init)"
   ]
  },
  {
   "cell_type": "code",
   "execution_count": 55,
   "metadata": {},
   "outputs": [],
   "source": [
    "# foo.tick_once()"
   ]
  },
  {
   "cell_type": "code",
   "execution_count": 56,
   "metadata": {},
   "outputs": [],
   "source": [
    "# for i in range(1, 8):\n",
    "    # foo.tick_once()\n",
    "    # print(\"Number of Noodles: {}\".format(foo.feedback_message))"
   ]
  },
  {
   "cell_type": "code",
   "execution_count": null,
   "metadata": {},
   "outputs": [],
   "source": []
  }
 ],
 "metadata": {
  "kernelspec": {
   "display_name": "Python 3",
   "language": "python",
   "name": "python3"
  },
  "language_info": {
   "codemirror_mode": {
    "name": "ipython",
    "version": 3
   },
   "file_extension": ".py",
   "mimetype": "text/x-python",
   "name": "python",
   "nbconvert_exporter": "python",
   "pygments_lexer": "ipython3",
   "version": "3.8.5"
  }
 },
 "nbformat": 4,
 "nbformat_minor": 4
}
