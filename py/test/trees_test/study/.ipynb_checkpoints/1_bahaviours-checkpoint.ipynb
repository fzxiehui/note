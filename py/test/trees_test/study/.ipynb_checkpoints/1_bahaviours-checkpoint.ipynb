{
 "cells": [
  {
   "cell_type": "code",
   "execution_count": 1,
   "metadata": {},
   "outputs": [],
   "source": [
    "import py_trees\n",
    "import random"
   ]
  },
  {
   "cell_type": "code",
   "execution_count": 2,
   "metadata": {},
   "outputs": [],
   "source": [
    "class Foo(py_trees.behaviour.Behaviour):\n",
    "    def __init__(self, name):\n",
    "        \"\"\"\n",
    "            最小的初始化。\n",
    "            一个很好的经验法则是只包含与能够相关的\n",
    "            初始化将此行为插入到树中以进行脱机呈现点图。\n",
    "        \"\"\"\n",
    "        super(Foo, self).__init__(name)\n",
    "    def setup(self):\n",
    "        \"\"\"\n",
    "            程序应主动调用，避免初始化时间过长。主要用于行为驱动初始化\n",
    "        \"\"\"\n",
    "        self.logger.debug(\"  %s [Foo::setup()]\" % self.name)\n",
    "    def initialise(self):\n",
    "        \"\"\"\n",
    "            在你的行为开始工作之前你需要的任何初始化。\n",
    "        \"\"\"\n",
    "        self.logger.debug(\"  %s [Foo::initialise()]\" % self.name)\n",
    "        \n",
    "    def update(self):\n",
    "        \"\"\"\n",
    "            每一次, tick 都会执行\n",
    "            - 触发、检查、监控。任何东西……但不要阻塞\n",
    "            - Set a feedback message设置反馈信息\n",
    "            - return a py_trees.common.Status.[RUNNING, SUCCESS, FAILURE]\n",
    "        \"\"\"\n",
    "        self.logger.debug(\"  %s [Foo::update()]\" % self.name)\n",
    "        ready_to_make_a_decision = random.choice([True, False])\n",
    "        decision = random.choice([True, False])\n",
    "        if not ready_to_make_a_decision:\n",
    "            return py_trees.common.Status.RUNNING\n",
    "        elif decision:\n",
    "            self.feedback_message = \"We are not bar!\"\n",
    "            return py_trees.common.Status.SUCCESS\n",
    "        else:\n",
    "            self.feedback_message = \"Uh oh\"\n",
    "            return py_trees.common.Status.FAILURE\n",
    "    \n",
    "    def terminate(self, new_status):\n",
    "        \"\"\"\n",
    "            触发时机: 当行为切换到非运行状态时。\n",
    "            - SUCCESS || FAILURE: 行为周期结束\n",
    "            - INVALID: \n",
    "        \"\"\"\n",
    "        self.logger.debug(\"  %s [Foo::terminate().terminate()][%s->%s]\" % (self.name, self.status, new_status))\n",
    "        "
   ]
  },
  {
   "cell_type": "code",
   "execution_count": 4,
   "metadata": {},
   "outputs": [],
   "source": [
    "test = Foo(\"hello\")"
   ]
  },
  {
   "cell_type": "code",
   "execution_count": 8,
   "metadata": {},
   "outputs": [],
   "source": [
    "test.setup()"
   ]
  },
  {
   "cell_type": "code",
   "execution_count": 9,
   "metadata": {},
   "outputs": [],
   "source": [
    "py_trees.logging.level = py_trees.logging.Level.DEBUG"
   ]
  },
  {
   "cell_type": "code",
   "execution_count": 18,
   "metadata": {},
   "outputs": [
    {
     "name": "stdout",
     "output_type": "stream",
     "text": [
      "[DEBUG] hello                : Foo.tick()\n",
      "[DEBUG] hello                :   hello [Foo::initialise()]\n",
      "[DEBUG] hello                :   hello [Foo::update()]\n",
      "[DEBUG] hello                : Foo.stop(Status.SUCCESS->Status.FAILURE)\n",
      "[DEBUG] hello                :   hello [Foo::terminate().terminate()][Status.SUCCESS->Status.FAILURE]\n"
     ]
    }
   ],
   "source": [
    "test.tick_once()"
   ]
  },
  {
   "cell_type": "markdown",
   "metadata": {},
   "source": [
    "## 生命周期"
   ]
  },
  {
   "cell_type": "markdown",
   "metadata": {},
   "source": [
    "```shell\n",
    "init --> setup --> tick_once() --> initialise --> update\n",
    "tick_once() --> update\n",
    "update --> terminate\n",
    "tick_once() --> initialise --> update\n",
    "```"
   ]
  },
  {
   "cell_type": "code",
   "execution_count": null,
   "metadata": {},
   "outputs": [],
   "source": []
  }
 ],
 "metadata": {
  "kernelspec": {
   "display_name": "Python 3",
   "language": "python",
   "name": "python3"
  },
  "language_info": {
   "codemirror_mode": {
    "name": "ipython",
    "version": 3
   },
   "file_extension": ".py",
   "mimetype": "text/x-python",
   "name": "python",
   "nbconvert_exporter": "python",
   "pygments_lexer": "ipython3",
   "version": "3.8.5"
  }
 },
 "nbformat": 4,
 "nbformat_minor": 4
}
