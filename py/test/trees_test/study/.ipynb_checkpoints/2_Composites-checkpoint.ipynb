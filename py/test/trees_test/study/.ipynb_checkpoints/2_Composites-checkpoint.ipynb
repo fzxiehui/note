{
 "cells": [
  {
   "cell_type": "markdown",
   "metadata": {},
   "source": [
    "# Composites (复合器,行为树工厂,决策者,选择器)"
   ]
  },
  {
   "cell_type": "markdown",
   "metadata": {},
   "source": [
    "## 简介"
   ]
  },
  {
   "cell_type": "markdown",
   "metadata": {},
   "source": [
    "复合器通常用于路线选择,发起tick,管理子进程,并将一些逻辑应用于它们执行和返回结果,但通常复合器不做任何事.\n",
    "复合器的三种组合:\n",
    "- Selector: 根据级联优先级选择要执行的子项\n",
    "- Sequence: 依次执行子进程\n",
    "- Parallel: 并发"
   ]
  },
  {
   "cell_type": "markdown",
   "metadata": {},
   "source": [
    "## 选择器(决策者)"
   ]
  },
  {
   "cell_type": "markdown",
   "metadata": {},
   "source": [
    "- 类\n",
    "```python\n",
    "class py_trees.composites.Selector(name='Selector', memory=False, children=None)\n",
    "```\n",
    "- 介绍\n",
    "\n",
    "选择器会依次执行子节点的行为,直到其中一个成功(此时它自己返回`RUNNING` or `SUCCESS`,或者在它执行完子节点后返回`FAILURE`,选择器通常在优先级之间进行选择)\n",
    "低优先级 -> 高优先级切换时,选择器会向先前低优先级分支发出`stop(INVALID)`这个信号将会渗透到子树中,行为应捕获该信号,做有效的暂停处理.\n",
    "\n",
    "- 参数\n",
    " - name `str` 复合器名称\n",
    " - memory `boot` 如果上一次`tick`处于`RUNNING`,继续保持`RUNNING`子任务. 可能是一个阻塞选项\n",
    " - children `[Behaviour]` 字节点列表"
   ]
  },
  {
   "cell_type": "code",
   "execution_count": null,
   "metadata": {},
   "outputs": [],
   "source": []
  },
  {
   "cell_type": "code",
   "execution_count": null,
   "metadata": {},
   "outputs": [],
   "source": []
  },
  {
   "cell_type": "code",
   "execution_count": null,
   "metadata": {},
   "outputs": [],
   "source": []
  },
  {
   "cell_type": "code",
   "execution_count": null,
   "metadata": {},
   "outputs": [],
   "source": []
  },
  {
   "cell_type": "code",
   "execution_count": null,
   "metadata": {},
   "outputs": [],
   "source": []
  },
  {
   "cell_type": "code",
   "execution_count": null,
   "metadata": {},
   "outputs": [],
   "source": []
  },
  {
   "cell_type": "markdown",
   "metadata": {},
   "source": []
  },
  {
   "cell_type": "code",
   "execution_count": null,
   "metadata": {},
   "outputs": [],
   "source": []
  },
  {
   "cell_type": "code",
   "execution_count": null,
   "metadata": {},
   "outputs": [],
   "source": []
  },
  {
   "cell_type": "code",
   "execution_count": null,
   "metadata": {},
   "outputs": [],
   "source": []
  }
 ],
 "metadata": {
  "kernelspec": {
   "display_name": "Python 3",
   "language": "python",
   "name": "python3"
  },
  "language_info": {
   "codemirror_mode": {
    "name": "ipython",
    "version": 3
   },
   "file_extension": ".py",
   "mimetype": "text/x-python",
   "name": "python",
   "nbconvert_exporter": "python",
   "pygments_lexer": "ipython3",
   "version": "3.8.5"
  }
 },
 "nbformat": 4,
 "nbformat_minor": 4
}
