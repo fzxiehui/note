{
 "cells": [
  {
   "cell_type": "code",
   "execution_count": 1,
   "metadata": {},
   "outputs": [],
   "source": [
    "import argparse\n",
    "import operator\n",
    "import py_trees\n",
    "import sys\n",
    "\n",
    "import py_trees.console as console\n",
    "\n",
    "class Nested(object):\n",
    "    \"\"\"\n",
    "    A more complex object to interact with on the blackboard.\n",
    "    \"\"\"\n",
    "    def __init__(self):\n",
    "        self.foo = \"bar\"\n",
    "\n",
    "    def __str__(self):\n",
    "        return str({\"foo\": self.foo})\n",
    "\n",
    "\n",
    "class BlackboardWriter(py_trees.behaviour.Behaviour):\n",
    "    \"\"\"\n",
    "    Custom writer that submits a more complicated variable to the blackboard.\n",
    "    \"\"\"\n",
    "    def __init__(self, name=\"Writer\"):\n",
    "        super().__init__(name=name)\n",
    "        self.blackboard = self.attach_blackboard_client()\n",
    "        self.blackboard.register_key(key=\"dude\", access=py_trees.common.Access.READ)\n",
    "        self.blackboard.register_key(key=\"spaghetti\", access=py_trees.common.Access.WRITE)\n",
    "\n",
    "        self.logger.debug(\"%s.__init__()\" % (self.__class__.__name__))\n",
    "\n",
    "    def update(self):\n",
    "        \"\"\"\n",
    "        Write a dictionary to the blackboard and return :data:`~py_trees.common.Status.SUCCESS`.\n",
    "        \"\"\"\n",
    "        self.logger.debug(\"%s.update()\" % (self.__class__.__name__))\n",
    "        try:\n",
    "            unused = self.blackboard.dude\n",
    "        except KeyError:\n",
    "            pass\n",
    "        try:\n",
    "            unused = self.blackboard.dudette\n",
    "        except AttributeError:\n",
    "            pass\n",
    "        try:\n",
    "            self.blackboard.dudette = \"Jane\"\n",
    "        except AttributeError:\n",
    "            pass\n",
    "        self.blackboard.spaghetti = {\"type\": \"Carbonara\", \"quantity\": 1}\n",
    "        self.blackboard.spaghetti = {\"type\": \"Gnocchi\", \"quantity\": 2}\n",
    "        try:\n",
    "            self.blackboard.set(\"spaghetti\", {\"type\": \"Bolognese\", \"quantity\": 3}, overwrite=False)\n",
    "        except AttributeError:\n",
    "            pass\n",
    "        return py_trees.common.Status.SUCCESS\n",
    "\n",
    "\n",
    "class ParamsAndState(py_trees.behaviour.Behaviour):\n",
    "    \"\"\"\n",
    "    A more esotoric use of multiple blackboards in a behaviour to represent\n",
    "    storage of parameters and state.\n",
    "    \"\"\"\n",
    "    def __init__(self, name=\"ParamsAndState\"):\n",
    "        super().__init__(name=name)\n",
    "        # namespaces can include the separator or may leave it out\n",
    "        # they can also be nested, e.g. /agent/state, /agent/parameters\n",
    "        self.parameters = self.attach_blackboard_client(\"Params\", \"parameters\")\n",
    "        self.state = self.attach_blackboard_client(\"State\", \"state\")\n",
    "        self.parameters.register_key(\n",
    "            key=\"default_speed\",\n",
    "            access=py_trees.common.Access.READ\n",
    "        )\n",
    "        self.state.register_key(\n",
    "            key=\"current_speed\",\n",
    "            access=py_trees.common.Access.WRITE\n",
    "        )\n",
    "\n",
    "    def initialise(self):\n",
    "        try:\n",
    "            self.state.current_speed = self.parameters.default_speed\n",
    "        except KeyError as e:\n",
    "            raise RuntimeError(\"parameter 'default_speed' not found [{}]\".format(str(e)))\n",
    "\n",
    "    def update(self):\n",
    "        if self.state.current_speed > 40.0:\n",
    "            return py_trees.common.Status.SUCCESS\n",
    "        else:\n",
    "            self.state.current_speed += 1.0\n",
    "            return py_trees.common.Status.RUNNING\n",
    "\n",
    "\n",
    "def create_root():\n",
    "    root = py_trees.composites.Sequence(\"Blackboard Demo\")\n",
    "    set_blackboard_variable = py_trees.behaviours.SetBlackboardVariable(\n",
    "        name=\"Set Nested\", variable_name=\"nested\", variable_value=Nested()\n",
    "    )\n",
    "    write_blackboard_variable = BlackboardWriter(name=\"Writer\")\n",
    "    check_blackboard_variable = py_trees.behaviours.CheckBlackboardVariableValue(\n",
    "        name=\"Check Nested Foo\",\n",
    "        check=py_trees.common.ComparisonExpression(\n",
    "            variable=\"nested.foo\",\n",
    "            value=\"bar\",\n",
    "            operator=operator.eq\n",
    "        )\n",
    "    )\n",
    "    params_and_state = ParamsAndState()\n",
    "    root.add_children([\n",
    "        set_blackboard_variable,\n",
    "        write_blackboard_variable,\n",
    "        check_blackboard_variable,\n",
    "        params_and_state\n",
    "    ])\n",
    "    return root\n"
   ]
  },
  {
   "cell_type": "code",
   "execution_count": 2,
   "metadata": {},
   "outputs": [],
   "source": [
    "py_trees.logging.level = py_trees.logging.Level.DEBUG"
   ]
  },
  {
   "cell_type": "code",
   "execution_count": 3,
   "metadata": {},
   "outputs": [],
   "source": [
    "py_trees.blackboard.Blackboard.enable_activity_stream(maximum_size=100)"
   ]
  },
  {
   "cell_type": "code",
   "execution_count": 4,
   "metadata": {},
   "outputs": [],
   "source": [
    "blackboard = py_trees.blackboard.Client(name=\"Configuration\")"
   ]
  },
  {
   "cell_type": "code",
   "execution_count": 5,
   "metadata": {},
   "outputs": [],
   "source": [
    "blackboard.register_key(key=\"dude\", access=py_trees.common.Access.WRITE)"
   ]
  },
  {
   "cell_type": "code",
   "execution_count": 6,
   "metadata": {},
   "outputs": [],
   "source": [
    "blackboard.register_key(key=\"/parameters/default_speed\", access=py_trees.common.Access.WRITE)"
   ]
  },
  {
   "cell_type": "code",
   "execution_count": 7,
   "metadata": {},
   "outputs": [],
   "source": [
    "blackboard.dude = \"Bob\""
   ]
  },
  {
   "cell_type": "code",
   "execution_count": 8,
   "metadata": {},
   "outputs": [],
   "source": [
    "blackboard.parameters.default_speed = 30.0"
   ]
  },
  {
   "cell_type": "code",
   "execution_count": 9,
   "metadata": {},
   "outputs": [
    {
     "name": "stdout",
     "output_type": "stream",
     "text": [
      "[DEBUG] Writer               : BlackboardWriter.__init__()\n"
     ]
    }
   ],
   "source": [
    "root = create_root()"
   ]
  },
  {
   "cell_type": "code",
   "execution_count": 11,
   "metadata": {},
   "outputs": [],
   "source": [
    "root.setup_with_descendants()"
   ]
  },
  {
   "cell_type": "code",
   "execution_count": 13,
   "metadata": {},
   "outputs": [],
   "source": [
    "# if args.render:\n",
    "#    py_trees.display.render_dot_tree(root, with_blackboard_variables=False)\n",
    "#    sys.exit()\n",
    "#if args.render_with_blackboard_variables:\n",
    "#    py_trees.display.render_dot_tree(root, with_blackboard_variables=True)\n",
    "#    sys.exit()"
   ]
  },
  {
   "cell_type": "code",
   "execution_count": 14,
   "metadata": {},
   "outputs": [],
   "source": [
    "root.setup_with_descendants()"
   ]
  },
  {
   "cell_type": "code",
   "execution_count": 15,
   "metadata": {},
   "outputs": [],
   "source": [
    "unset_blackboard = py_trees.blackboard.Client(name=\"Unsetter\")"
   ]
  },
  {
   "cell_type": "code",
   "execution_count": 16,
   "metadata": {},
   "outputs": [],
   "source": [
    "unset_blackboard.register_key(key=\"foo\", access=py_trees.common.Access.WRITE)"
   ]
  },
  {
   "cell_type": "code",
   "execution_count": 17,
   "metadata": {},
   "outputs": [
    {
     "name": "stdout",
     "output_type": "stream",
     "text": [
      "\n",
      "--------- Tick 0 ---------\n",
      "\n"
     ]
    }
   ],
   "source": [
    "print(\"\\n--------- Tick 0 ---------\\n\")"
   ]
  },
  {
   "cell_type": "code",
   "execution_count": 18,
   "metadata": {},
   "outputs": [
    {
     "name": "stdout",
     "output_type": "stream",
     "text": [
      "[DEBUG] Blackboard Demo      : Sequence.tick()\n",
      "[DEBUG] Set Nested           : SetBlackboardVariable.tick()\n",
      "[DEBUG] Set Nested           : SetBlackboardVariable.stop(Status.INVALID->Status.SUCCESS)\n",
      "[DEBUG] Writer               : BlackboardWriter.tick()\n",
      "[DEBUG] Writer               : BlackboardWriter.update()\n",
      "[DEBUG] Writer               : BlackboardWriter.stop(Status.INVALID->Status.SUCCESS)\n",
      "[DEBUG] Check Nested Foo     : CheckBlackboardVariableValue.tick()\n",
      "[DEBUG] Check Nested Foo     : CheckBlackboardVariableValue.update()\n",
      "[DEBUG] Check Nested Foo     : CheckBlackboardVariableValue.stop(Status.INVALID->Status.SUCCESS)\n",
      "[DEBUG] ParamsAndState       : ParamsAndState.tick()\n"
     ]
    }
   ],
   "source": [
    "root.tick_once()"
   ]
  },
  {
   "cell_type": "code",
   "execution_count": 19,
   "metadata": {},
   "outputs": [
    {
     "name": "stdout",
     "output_type": "stream",
     "text": [
      "{-} Blackboard Demo [*]\n",
      "    --> Set Nested [✓]\n",
      "    --> Writer [✓]\n",
      "    --> Check Nested Foo [✓] -- 'nested.foo' comparison succeeded [v: bar][e: bar]\n",
      "    --> ParamsAndState [*]\n",
      "\n"
     ]
    }
   ],
   "source": [
    "print(py_trees.display.unicode_tree(root, show_status=True))"
   ]
  },
  {
   "cell_type": "code",
   "execution_count": 20,
   "metadata": {},
   "outputs": [
    {
     "name": "stdout",
     "output_type": "stream",
     "text": [
      "Blackboard Data\n",
      "    /dude                    : Bob\n",
      "    /foo                     : -\n",
      "    /nested                  : {'foo': 'bar'}\n",
      "    /parameters/default_speed: 30.0\n",
      "    /spaghetti               : {'type': 'Gnocchi', 'quantity': 2}\n",
      "    /state/current_speed     : 31.0\n",
      "\n"
     ]
    }
   ],
   "source": [
    "print(py_trees.display.unicode_blackboard())"
   ]
  },
  {
   "cell_type": "code",
   "execution_count": 21,
   "metadata": {},
   "outputs": [
    {
     "name": "stdout",
     "output_type": "stream",
     "text": [
      "Blackboard Clients\n",
      "    /dude                     : Configur... (w), Writer (r)\n",
      "    /foo                      : Unsetter (w)\n",
      "    /nested                   : Set Nested (w), Check Ne... (r)\n",
      "    /parameters/default_speed : Configur... (w), Params (r)\n",
      "    /spaghetti                : Writer (w)\n",
      "    /state/current_speed      : State (w)\n",
      "\n"
     ]
    }
   ],
   "source": [
    "print(py_trees.display.unicode_blackboard(display_only_key_metadata=True))"
   ]
  },
  {
   "cell_type": "code",
   "execution_count": 22,
   "metadata": {},
   "outputs": [
    {
     "data": {
      "text/plain": [
       "False"
      ]
     },
     "execution_count": 22,
     "metadata": {},
     "output_type": "execute_result"
    }
   ],
   "source": [
    "unset_blackboard.unset(\"foo\")"
   ]
  },
  {
   "cell_type": "code",
   "execution_count": 23,
   "metadata": {},
   "outputs": [
    {
     "name": "stdout",
     "output_type": "stream",
     "text": [
      "Blackboard Activity Stream\n",
      "    /dude                     : INITIALISED   | Configuration    | → Bob\n",
      "    /parameters/default_speed : INITIALISED   | Configuration    | → 30.0\n",
      "    /nested                   : INITIALISED   | Set Nested       | → {'foo': 'bar'}\n",
      "    /dude                     : READ          | Writer           | ← Bob\n",
      "    /dudette                  : ACCESS_DENIED | Writer           | ✕ client has no read/write access\n",
      "    /dudette                  : ACCESS_DENIED | Writer           | ✕ client has no read/write access\n",
      "    /spaghetti                : INITIALISED   | Writer           | → {'type': 'Carb...\n",
      "    /spaghetti                : WRITE         | Writer           | → {'type': 'Gnoc...\n",
      "    /spaghetti                : NO_OVERWRITE  | Writer           | ⦸ {'type': 'Gnoc...\n",
      "    /nested                   : READ          | Check Nested Foo | ← {'foo': 'bar'}\n",
      "    /parameters/default_speed : READ          | Params           | ← 30.0\n",
      "    /state/current_speed      : INITIALISED   | State            | → 30.0\n",
      "    /state/current_speed      : READ          | State            | ← 30.0\n",
      "    /state/current_speed      : READ          | State            | ← 30.0\n",
      "    /state/current_speed      : WRITE         | State            | → 31.0\n",
      "    /foo                      : UNSET         | Unsetter         | \n"
     ]
    }
   ],
   "source": [
    "print(py_trees.display.unicode_blackboard_activity_stream())"
   ]
  },
  {
   "cell_type": "code",
   "execution_count": null,
   "metadata": {},
   "outputs": [],
   "source": []
  },
  {
   "cell_type": "code",
   "execution_count": null,
   "metadata": {},
   "outputs": [],
   "source": []
  }
 ],
 "metadata": {
  "kernelspec": {
   "display_name": "Python 3",
   "language": "python",
   "name": "python3"
  },
  "language_info": {
   "codemirror_mode": {
    "name": "ipython",
    "version": 3
   },
   "file_extension": ".py",
   "mimetype": "text/x-python",
   "name": "python",
   "nbconvert_exporter": "python",
   "pygments_lexer": "ipython3",
   "version": "3.8.5"
  }
 },
 "nbformat": 4,
 "nbformat_minor": 4
}
