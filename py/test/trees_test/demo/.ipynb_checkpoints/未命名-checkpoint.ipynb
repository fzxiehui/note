{
 "cells": [
  {
   "cell_type": "code",
   "execution_count": 24,
   "metadata": {},
   "outputs": [],
   "source": [
    "#!/usr/bin/env python\n",
    "#\n",
    "# License: BSD\n",
    "#   https://raw.githubusercontent.com/splintered-reality/py_trees/devel/LICENSE\n",
    "#\n",
    "##############################################################################\n",
    "# Documentation\n",
    "##############################################################################\n",
    "\n",
    "\"\"\"\n",
    ".. argparse::\n",
    "   :module: py_trees.demos.action\n",
    "   :func: command_line_argument_parser\n",
    "   :prog: py-trees-demo-action-behaviour\n",
    "\n",
    ".. image:: images/action.gif\n",
    "\"\"\"\n",
    "\n",
    "##############################################################################\n",
    "# Imports\n",
    "##############################################################################\n",
    "\n",
    "import argparse\n",
    "import atexit\n",
    "import multiprocessing\n",
    "import py_trees.common\n",
    "import time\n",
    "\n",
    "import py_trees.console as console\n",
    "\n",
    "##############################################################################\n",
    "# Classes\n",
    "##############################################################################\n",
    "\n",
    "\n",
    "def description():\n",
    "    content = \"Demonstrates the characteristics of a typical 'action' behaviour.\\n\"\n",
    "    content += \"\\n\"\n",
    "    content += \"* Mocks an external process and connects to it in the setup() method\\n\"\n",
    "    content += \"* Kickstarts new goals with the external process in the initialise() method\\n\"\n",
    "    content += \"* Monitors the ongoing goal status in the update() method\\n\"\n",
    "    content += \"* Determines RUNNING/SUCCESS pending feedback from the external process\\n\"\n",
    "\n",
    "    if py_trees.console.has_colours:\n",
    "        banner_line = console.green + \"*\" * 79 + \"\\n\" + console.reset\n",
    "        s = \"\\n\"\n",
    "        s += banner_line\n",
    "        s += console.bold_white + \"Action Behaviour\".center(79) + \"\\n\" + console.reset\n",
    "        s += banner_line\n",
    "        s += \"\\n\"\n",
    "        s += content\n",
    "        s += \"\\n\"\n",
    "        s += banner_line\n",
    "    else:\n",
    "        s = content\n",
    "    return s\n",
    "\n",
    "\n",
    "def epilog():\n",
    "    if py_trees.console.has_colours:\n",
    "        return console.cyan + \"And his noodly appendage reached forth to tickle the blessed...\\n\" + console.reset\n",
    "    else:\n",
    "        return None\n",
    "\n",
    "\n",
    "def command_line_argument_parser():\n",
    "    return argparse.ArgumentParser(description=description(),\n",
    "                                   epilog=epilog(),\n",
    "                                   formatter_class=argparse.RawDescriptionHelpFormatter,\n",
    "                                   )\n",
    "\n",
    "\n",
    "def planning(pipe_connection):\n",
    "    \"\"\"\n",
    "    Emulates an external process which might accept long running planning jobs.\n",
    "    \"\"\"\n",
    "    idle = True\n",
    "    percentage_complete = 0\n",
    "    try:\n",
    "        while(True):\n",
    "            if pipe_connection.poll():\n",
    "                pipe_connection.recv()\n",
    "                percentage_complete = 0\n",
    "                idle = False\n",
    "            if not idle:\n",
    "                percentage_complete += 10\n",
    "                pipe_connection.send([percentage_complete])\n",
    "                if percentage_complete == 100:\n",
    "                    idle = True\n",
    "            time.sleep(0.5)\n",
    "    except KeyboardInterrupt:\n",
    "        pass\n",
    "\n",
    "\n",
    "class Action(py_trees.behaviour.Behaviour):\n",
    "    \"\"\"\n",
    "    Connects to a subprocess to initiate a goal, and monitors the progress\n",
    "    of that goal at each tick until the goal is completed, at which time\n",
    "    the behaviour itself returns with success or failure (depending on\n",
    "    success or failure of the goal itself).\n",
    "    连接到子流程以启动目标，并在每个tick点监视目标的进展，直到目标完成，\n",
    "    此时行为本身返回成功或失败(取决于目标本身的成功或失败)。\n",
    "    \n",
    "    This is typical of a behaviour that is connected to an external process\n",
    "    responsible for driving hardware, conducting a plan, or a long running\n",
    "    processing pipeline (e.g. planning/vision).\n",
    "    这是连接到负责驱动硬件、执行计划或长时间运行的处理管道\n",
    "    (例如规划/愿景)的外部进程的典型行为。\n",
    "\n",
    "    Key point - this behaviour itself should not be doing any work!\n",
    "    关键点-这种行为本身不应该做任何工作!\n",
    "    \"\"\"\n",
    "    def __init__(self, name=\"Action\"):\n",
    "        \"\"\"\n",
    "            Default construction.\n",
    "            默认构造.\n",
    "        \"\"\"\n",
    "        super(Action, self).__init__(name)\n",
    "        self.logger.debug(\"%s.__init__()\" % (self.__class__.__name__))\n",
    "        print(self.__class__.__name__)\n",
    "\n",
    "    def setup(self):\n",
    "        \"\"\"\n",
    "            No delayed initialisation required for this example.\n",
    "            此示例不需要延迟初始化。\n",
    "        \"\"\"\n",
    "        self.logger.debug(\"%s.setup()->connections to an external process\" % (self.__class__.__name__))\n",
    "        self.parent_connection, self.child_connection = multiprocessing.Pipe()\n",
    "        self.planning = multiprocessing.Process(target=planning, args=(self.child_connection,))\n",
    "        atexit.register(self.planning.terminate)\n",
    "        self.planning.start()\n",
    "\n",
    "    def initialise(self):\n",
    "        \"\"\"\n",
    "            Reset a counter variable.\n",
    "            重置计数器变量。\n",
    "        \"\"\"\n",
    "        self.logger.debug(\"%s.initialise()->sending new goal\" % (self.__class__.__name__))\n",
    "        self.parent_connection.send(['new goal'])\n",
    "        self.percentage_completion = 0\n",
    "\n",
    "    def update(self):\n",
    "        \"\"\"\n",
    "            Increment the counter and decide upon a new status result for the behaviour.\n",
    "            递增计数器并决定行为的新状态结果。\n",
    "        \"\"\"\n",
    "        new_status = py_trees.common.Status.RUNNING\n",
    "        if self.parent_connection.poll():\n",
    "            self.percentage_completion = self.parent_connection.recv().pop()\n",
    "            if self.percentage_completion == 100:\n",
    "                new_status = py_trees.common.Status.SUCCESS\n",
    "        if new_status == py_trees.common.Status.SUCCESS:\n",
    "            self.feedback_message = \"Processing finished\"\n",
    "            self.logger.debug(\"%s.update()[%s->%s][%s]\" % (self.__class__.__name__, self.status, new_status, self.feedback_message))\n",
    "        else:\n",
    "            self.feedback_message = \"{0}%\".format(self.percentage_completion)\n",
    "            self.logger.debug(\"%s.update()[%s][%s]\" % (self.__class__.__name__, self.status, self.feedback_message))\n",
    "        return new_status\n",
    "\n",
    "    def terminate(self, new_status):\n",
    "        \"\"\"\n",
    "            Nothing to clean up in this example.\n",
    "            在本例中没有需要清理的内容。\n",
    "        \"\"\"\n",
    "        self.logger.debug(\"%s.terminate()[%s->%s]\" % (self.__class__.__name__, self.status, new_status))\n",
    "\n",
    "\n",
    "##############################################################################\n",
    "# Main\n",
    "##############################################################################\n",
    "\n",
    "def main():\n",
    "    \"\"\"\n",
    "        Entry point for the demo script.\n",
    "        演示脚本的入口点。\n",
    "    \"\"\"\n",
    "    # command_line_argument_parser().parse_args()\n",
    "\n",
    "    print(description())\n",
    "\n",
    "    py_trees.logging.level = py_trees.logging.Level.DEBUG\n",
    "\n",
    "    action = Action()\n",
    "    action.setup()\n",
    "    try:\n",
    "        for unused_i in range(0, 5):\n",
    "            action.tick_once()\n",
    "            time.sleep(0.5)\n",
    "        print(\"\\n\")\n",
    "    except KeyboardInterrupt:\n",
    "        pass"
   ]
  },
  {
   "cell_type": "code",
   "execution_count": 25,
   "metadata": {},
   "outputs": [],
   "source": [
    "py_trees.logging.level = py_trees.logging.Level.DEBUG"
   ]
  },
  {
   "cell_type": "code",
   "execution_count": 26,
   "metadata": {},
   "outputs": [
    {
     "name": "stdout",
     "output_type": "stream",
     "text": [
      "[DEBUG] Action               : Action.__init__()\n",
      "Action\n"
     ]
    }
   ],
   "source": [
    "action = Action()"
   ]
  },
  {
   "cell_type": "code",
   "execution_count": 27,
   "metadata": {},
   "outputs": [
    {
     "name": "stdout",
     "output_type": "stream",
     "text": [
      "[DEBUG] Action               : Action.setup()->connections to an external process\n"
     ]
    }
   ],
   "source": [
    "action.setup()"
   ]
  },
  {
   "cell_type": "code",
   "execution_count": 33,
   "metadata": {},
   "outputs": [
    {
     "name": "stdout",
     "output_type": "stream",
     "text": [
      "[DEBUG] Action               : Action.tick()\n",
      "[DEBUG] Action               : Action.update()[Status.RUNNING][10%]\n",
      "[DEBUG] Action               : Action.tick()\n",
      "[DEBUG] Action               : Action.update()[Status.RUNNING][20%]\n",
      "[DEBUG] Action               : Action.tick()\n",
      "[DEBUG] Action               : Action.update()[Status.RUNNING][30%]\n",
      "[DEBUG] Action               : Action.tick()\n",
      "[DEBUG] Action               : Action.update()[Status.RUNNING][40%]\n",
      "[DEBUG] Action               : Action.tick()\n",
      "[DEBUG] Action               : Action.update()[Status.RUNNING][50%]\n",
      "[DEBUG] Action               : Action.tick()\n",
      "[DEBUG] Action               : Action.update()[Status.RUNNING][60%]\n",
      "[DEBUG] Action               : Action.tick()\n",
      "[DEBUG] Action               : Action.update()[Status.RUNNING][70%]\n",
      "[DEBUG] Action               : Action.tick()\n",
      "[DEBUG] Action               : Action.update()[Status.RUNNING][80%]\n",
      "[DEBUG] Action               : Action.tick()\n",
      "[DEBUG] Action               : Action.update()[Status.RUNNING][90%]\n",
      "[DEBUG] Action               : Action.tick()\n",
      "[DEBUG] Action               : Action.update()[Status.RUNNING->Status.SUCCESS][Processing finished]\n",
      "[DEBUG] Action               : Action.stop(Status.RUNNING->Status.SUCCESS)\n",
      "[DEBUG] Action               : Action.terminate()[Status.RUNNING->Status.SUCCESS]\n",
      "[DEBUG] Action               : Action.tick()\n",
      "[DEBUG] Action               : Action.initialise()->sending new goal\n",
      "[DEBUG] Action               : Action.update()[Status.SUCCESS][0%]\n",
      "[DEBUG] Action               : Action.tick()\n",
      "[DEBUG] Action               : Action.update()[Status.RUNNING][10%]\n",
      "\n",
      "\n"
     ]
    }
   ],
   "source": [
    "try:\n",
    "    for unused_i in range(0, 12):\n",
    "        action.tick_once()\n",
    "        time.sleep(0.5)\n",
    "    print(\"\\n\")\n",
    "except KeyboardInterrupt:\n",
    "    pass"
   ]
  },
  {
   "cell_type": "code",
   "execution_count": null,
   "metadata": {},
   "outputs": [],
   "source": []
  },
  {
   "cell_type": "code",
   "execution_count": null,
   "metadata": {},
   "outputs": [],
   "source": []
  },
  {
   "cell_type": "code",
   "execution_count": 5,
   "metadata": {},
   "outputs": [],
   "source": [
    "import py_trees.console as console"
   ]
  },
  {
   "cell_type": "code",
   "execution_count": 6,
   "metadata": {},
   "outputs": [
    {
     "name": "stdout",
     "output_type": "stream",
     "text": [
      "test\n"
     ]
    }
   ],
   "source": [
    "console.error(\"test\")"
   ]
  },
  {
   "cell_type": "code",
   "execution_count": 10,
   "metadata": {},
   "outputs": [
    {
     "name": "stdout",
     "output_type": "stream",
     "text": [
      "Demonstrates the characteristics of a typical 'action' behaviour.\n",
      "\n",
      "* Mocks an external process and connects to it in the setup() method\n",
      "* Kickstarts new goals with the external process in the initialise() method\n",
      "* Monitors the ongoing goal status in the update() method\n",
      "* Determines RUNNING/SUCCESS pending feedback from the external process\n",
      "\n"
     ]
    }
   ],
   "source": [
    "print(description())"
   ]
  },
  {
   "cell_type": "code",
   "execution_count": 12,
   "metadata": {},
   "outputs": [
    {
     "name": "stderr",
     "output_type": "stream",
     "text": [
      "usage: ipykernel_launcher.py [-h]\n",
      "ipykernel_launcher.py: error: unrecognized arguments: -f /home/hello/.local/share/jupyter/runtime/kernel-d28b04bd-e702-4ee6-9193-20a88bb3ebb5.json\n"
     ]
    },
    {
     "ename": "SystemExit",
     "evalue": "2",
     "output_type": "error",
     "traceback": [
      "An exception has occurred, use %tb to see the full traceback.\n",
      "\u001b[0;31mSystemExit\u001b[0m\u001b[0;31m:\u001b[0m 2\n"
     ]
    },
    {
     "name": "stderr",
     "output_type": "stream",
     "text": [
      "/home/hello/anaconda3/lib/python3.8/site-packages/IPython/core/interactiveshell.py:3426: UserWarning: To exit: use 'exit', 'quit', or Ctrl-D.\n",
      "  warn(\"To exit: use 'exit', 'quit', or Ctrl-D.\", stacklevel=1)\n"
     ]
    }
   ],
   "source": [
    "command_line_argument_parser().parse_args()"
   ]
  },
  {
   "cell_type": "code",
   "execution_count": null,
   "metadata": {},
   "outputs": [],
   "source": []
  },
  {
   "cell_type": "code",
   "execution_count": null,
   "metadata": {},
   "outputs": [],
   "source": []
  }
 ],
 "metadata": {
  "kernelspec": {
   "display_name": "Python 3",
   "language": "python",
   "name": "python3"
  },
  "language_info": {
   "codemirror_mode": {
    "name": "ipython",
    "version": 3
   },
   "file_extension": ".py",
   "mimetype": "text/x-python",
   "name": "python",
   "nbconvert_exporter": "python",
   "pygments_lexer": "ipython3",
   "version": "3.8.5"
  }
 },
 "nbformat": 4,
 "nbformat_minor": 4
}
