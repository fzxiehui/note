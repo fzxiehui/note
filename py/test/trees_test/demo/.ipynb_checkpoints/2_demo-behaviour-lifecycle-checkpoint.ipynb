{
 "cells": [
  {
   "cell_type": "code",
   "execution_count": 9,
   "metadata": {},
   "outputs": [],
   "source": [
    "import argparse\n",
    "import py_trees\n",
    "import time\n",
    "\n",
    "import py_trees.console as console\n",
    "\"\"\"\n",
    "    Simple counting behaviour that facilitates the demonstration of a behaviour in\n",
    "    the demo behaviours lifecycle program.\n",
    "    简单的计数行为，有助于在演示行为生命周期程序中演示行为。\n",
    "\n",
    "    * Increments a counter from zero at each tick\n",
    "        在每个滴答声中从零开始增加一个计数器\n",
    "    * Finishes with success if the counter reaches three\n",
    "        如果计数器达到三则成功完成\n",
    "    * Resets the counter in the initialise() method.\n",
    "        在 initialize() 方法中重置计数器。\n",
    "\"\"\"\n",
    "class Counter(py_trees.behaviour.Behaviour):\n",
    "    \"\"\"\n",
    "        Default construction.构造\n",
    "    \"\"\"\n",
    "    def __init__(self, name=\"Counter\"):\n",
    "        super(Counter, self).__init__(name)\n",
    "        self.logger.debug(\"%s.__init__()\" % (self.__class__.__name__))\n",
    "\n",
    "    \"\"\"\n",
    "        No delayed initialisation required for this example.\n",
    "    \"\"\"\n",
    "    def setup(self):\n",
    "\n",
    "        self.logger.debug(\"%s.setup()\" % (self.__class__.__name__))\n",
    "\n",
    "    \"\"\"\n",
    "        Reset a counter variable.\n",
    "    \"\"\"\n",
    "    def initialise(self):\n",
    "        self.logger.debug(\"%s.initialise()\" % (self.__class__.__name__))\n",
    "        self.counter = 0\n",
    "\n",
    "    \"\"\"\n",
    "        Increment the counter and decide upon a new status result for the behaviour.\n",
    "    \"\"\"\n",
    "    def update(self):\n",
    "        \n",
    "        # 直到执行三次才返回 SUCCESS\n",
    "        self.counter += 1\n",
    "        new_status = py_trees.common.Status.SUCCESS if self.counter == 3 else py_trees.common.Status.RUNNING\n",
    "        if new_status == py_trees.common.Status.SUCCESS:\n",
    "            self.feedback_message = \"counting...{0} - phew, thats enough for today\".format(self.counter)\n",
    "        else:\n",
    "            self.feedback_message = \"still counting\"\n",
    "        self.logger.debug(\"%s.update()[%s->%s][%s]\" % (self.__class__.__name__, self.status, new_status, self.feedback_message))\n",
    "        return new_status\n",
    "    \n",
    "    \"\"\"\n",
    "        Nothing to clean up in this example.\n",
    "    \"\"\"\n",
    "    def terminate(self, new_status):\n",
    "        \n",
    "        self.logger.debug(\"%s.terminate()[%s->%s]\" % (self.__class__.__name__, self.status, new_status))\n",
    "\n"
   ]
  },
  {
   "cell_type": "code",
   "execution_count": 10,
   "metadata": {},
   "outputs": [],
   "source": [
    "py_trees.logging.level = py_trees.logging.Level.DEBUG"
   ]
  },
  {
   "cell_type": "code",
   "execution_count": 11,
   "metadata": {},
   "outputs": [
    {
     "name": "stdout",
     "output_type": "stream",
     "text": [
      "[DEBUG] Counter              : Counter.__init__()\n",
      "[DEBUG] Counter              : Counter.setup()\n"
     ]
    }
   ],
   "source": [
    "counter = Counter()\n",
    "counter.setup()"
   ]
  },
  {
   "cell_type": "code",
   "execution_count": 13,
   "metadata": {},
   "outputs": [
    {
     "name": "stdout",
     "output_type": "stream",
     "text": [
      "[DEBUG] Counter              : Counter.tick()\n",
      "[DEBUG] Counter              : Counter.update()[Status.RUNNING->Status.RUNNING][still counting]\n",
      "[DEBUG] Counter              : Counter.tick()\n",
      "[DEBUG] Counter              : Counter.update()[Status.RUNNING->Status.SUCCESS][counting...3 - phew, thats enough for today]\n",
      "[DEBUG] Counter              : Counter.stop(Status.RUNNING->Status.SUCCESS)\n",
      "[DEBUG] Counter              : Counter.terminate()[Status.RUNNING->Status.SUCCESS]\n",
      "[DEBUG] Counter              : Counter.tick()\n",
      "[DEBUG] Counter              : Counter.initialise()\n",
      "[DEBUG] Counter              : Counter.update()[Status.SUCCESS->Status.RUNNING][still counting]\n",
      "\n",
      "\n"
     ]
    }
   ],
   "source": [
    "try:\n",
    "    for unused_i in range(0, 3):\n",
    "        counter.tick_once()\n",
    "        time.sleep(0.5)\n",
    "    print(\"\\n\")\n",
    "except KeyboardInterrupt:\n",
    "    print(\"\")\n",
    "    pass"
   ]
  },
  {
   "cell_type": "code",
   "execution_count": null,
   "metadata": {},
   "outputs": [],
   "source": []
  },
  {
   "cell_type": "code",
   "execution_count": null,
   "metadata": {},
   "outputs": [],
   "source": []
  }
 ],
 "metadata": {
  "kernelspec": {
   "display_name": "Python 3",
   "language": "python",
   "name": "python3"
  },
  "language_info": {
   "codemirror_mode": {
    "name": "ipython",
    "version": 3
   },
   "file_extension": ".py",
   "mimetype": "text/x-python",
   "name": "python",
   "nbconvert_exporter": "python",
   "pygments_lexer": "ipython3",
   "version": "3.8.5"
  }
 },
 "nbformat": 4,
 "nbformat_minor": 4
}
